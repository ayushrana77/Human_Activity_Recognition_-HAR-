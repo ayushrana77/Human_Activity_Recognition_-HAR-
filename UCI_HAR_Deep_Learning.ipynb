{
  "cells": [
    {
      "cell_type": "raw",
      "metadata": {
        "id": "WRvC9OMX9ugz"
      },
      "source": [
        "# UCI - Human Action Recognition - Deep-Learning"
      ]
    },
    {
      "cell_type": "markdown",
      "metadata": {
        "id": "qyF0DKjD90Wf",
        "outputId": "be7fd783-94d6-49d5-9f1e-3e9475f81b46"
      },
      "source": [
        "from google.colab import drive\n",
        "drive.mount('/content/drive')"
      ]
    },
    {
      "cell_type": "code",
      "execution_count": null,
      "metadata": {
        "colab": {
          "base_uri": "https://localhost:8080/"
        },
        "id": "2yfdiHSS2tnq",
        "outputId": "008db2aa-2a5d-432c-e9aa-77431e4cc3b8"
      },
      "outputs": [
        {
          "output_type": "stream",
          "name": "stdout",
          "text": [
            "Mounted at /content/drive\n"
          ]
        }
      ],
      "source": [
        "from google.colab import drive\n",
        "drive.mount(\"/content/drive\", force_remount=True)"
      ]
    },
    {
      "cell_type": "markdown",
      "metadata": {
        "id": "lK3R4ujA9ug2"
      },
      "source": [
        "### import"
      ]
    },
    {
      "cell_type": "code",
      "execution_count": null,
      "metadata": {
        "id": "vXqWp2dA9ug3"
      },
      "outputs": [],
      "source": [
        "import numpy as np\n",
        "import pandas as pd\n",
        "from sklearn.metrics import confusion_matrix, classification_report\n",
        "import tensorflow as tf\n",
        "import warnings\n",
        "import os"
      ]
    },
    {
      "cell_type": "code",
      "execution_count": null,
      "metadata": {
        "id": "3O7YCK3v9ug5"
      },
      "outputs": [],
      "source": [
        "warnings.filterwarnings('ignore', category=UserWarning, module='keras')\n",
        "\n",
        "np.random.seed(42)\n",
        "tf.random.set_seed(42)"
      ]
    },
    {
      "cell_type": "code",
      "execution_count": null,
      "metadata": {
        "id": "CgZupfR_9ug5"
      },
      "outputs": [],
      "source": [
        "# Importing libraries\n",
        "from keras import backend as K\n",
        "from keras.models import Sequential\n",
        "from keras.layers import LSTM, TimeDistributed, Conv1D, MaxPooling1D, Flatten\n",
        "from keras.layers import Dense, Dropout, Bidirectional\n",
        "from keras.callbacks import EarlyStopping, ModelCheckpoint"
      ]
    },
    {
      "cell_type": "markdown",
      "metadata": {
        "id": "20BdE0PI9ug5"
      },
      "source": [
        "### Load Data"
      ]
    },
    {
      "cell_type": "code",
      "execution_count": null,
      "metadata": {
        "id": "FTT0jC0JHGhp"
      },
      "outputs": [],
      "source": [
        "# Data directory\n",
        "DATADIR = '/content/drive/MyDrive/Colab Notebooks/UCI HAR Dataset'\n",
        "\n",
        "# Activity labels\n",
        "ACTIVITIES = {\n",
        "    1: 'WALKING',\n",
        "    2: 'WALKING_UPSTAIRS',\n",
        "    3: 'WALKING_DOWNSTAIRS',\n",
        "    4: 'SITTING',\n",
        "    5: 'STANDING',\n",
        "    6: 'LAYING'\n",
        "}"
      ]
    },
    {
      "cell_type": "code",
      "execution_count": null,
      "metadata": {
        "id": "ByYTEcWK9ug6"
      },
      "outputs": [],
      "source": [
        "# Raw data signals\n",
        "# Signals are from Accelerometer and Gyroscope\n",
        "# The signals are in x,y,z directions\n",
        "# Sensor signals are filtered to have only body acceleration\n",
        "# excluding the acceleration due to gravity\n",
        "# Triaxial acceleration from the accelerometer is total acceleration\n",
        "SIGNALS = [\n",
        "    \"body_acc_x\",\n",
        "    \"body_acc_y\",\n",
        "    \"body_acc_z\",\n",
        "    \"body_gyro_x\",\n",
        "    \"body_gyro_y\",\n",
        "    \"body_gyro_z\",\n",
        "    \"total_acc_x\",\n",
        "    \"total_acc_y\",\n",
        "    \"total_acc_z\"\n",
        "]"
      ]
    },
    {
      "cell_type": "code",
      "execution_count": null,
      "metadata": {
        "id": "JsIjA0-19ug6"
      },
      "outputs": [],
      "source": [
        "# Utility function to read the data from csv file\n",
        "def _read_csv(filename):\n",
        "    return pd.read_csv(filename, delim_whitespace=True, header=None)\n",
        "\n",
        "# Utility function to load the load\n",
        "def load_signals(subset):\n",
        "    signals_data = []\n",
        "\n",
        "    for signal in SIGNALS:\n",
        "        filename = f'{DATADIR}/{subset}/Inertial Signals/{signal}_{subset}.txt'\n",
        "        signals_data.append(\n",
        "            _read_csv(filename).to_numpy()\n",
        "        )\n",
        "\n",
        "    # Transpose is used to change the dimensionality of the output,\n",
        "    # aggregating the signals by combination of sample/timestep.\n",
        "    # Resultant shape is (7352 train/2947 test samples, 128 timesteps, 9 signals)\n",
        "    return np.transpose(signals_data, (1, 2, 0))"
      ]
    },
    {
      "cell_type": "code",
      "execution_count": null,
      "metadata": {
        "id": "dT9jXw-f9ug7"
      },
      "outputs": [],
      "source": [
        "def load_y(subset):\n",
        "    \"\"\"\n",
        "    The objective that we are trying to predict is a integer, from 1 to 6,\n",
        "    that represents a human activity. We return a binary representation of\n",
        "    every sample objective as a 6 bits vector using One Hot Encoding\n",
        "    (https://pandas.pydata.org/pandas-docs/stable/generated/pandas.get_dummies.html)\n",
        "    \"\"\"\n",
        "    filename = f'{DATADIR}/{subset}/y_{subset}.txt'\n",
        "    y = _read_csv(filename)[0]\n",
        "\n",
        "    return pd.get_dummies(y).to_numpy(), y.values\n"
      ]
    },
    {
      "cell_type": "code",
      "execution_count": null,
      "metadata": {
        "id": "gUjifvkH9ug7"
      },
      "outputs": [],
      "source": [
        "def load_data():\n",
        "    \"\"\"\n",
        "    Obtain the dataset from multiple files.\n",
        "    Returns: X_train, X_test, y_train, y_test, y_train_raw, y_test_raw\n",
        "    \"\"\"\n",
        "    X_train, X_test = load_signals('train'), load_signals('test')\n",
        "    y_train, y_train_raw = load_y('train')\n",
        "    y_test, y_test_raw = load_y('test')\n",
        "\n",
        "    return X_train, X_test, y_train, y_test, y_train_raw, y_test_raw"
      ]
    },
    {
      "cell_type": "code",
      "execution_count": null,
      "metadata": {
        "id": "eTKbWEVw9ug8"
      },
      "outputs": [],
      "source": [
        "# Enhanced CSV data processing for external data\n",
        "def process_csv_data(file_path, train_mean=None, train_std=None):\n",
        "    \"\"\"\n",
        "    Process external CSV data for inference\n",
        "    Returns normalized data in the correct shape for the model\n",
        "    \"\"\"\n",
        "    # Load CSV data with actual columns\n",
        "    df = pd.read_csv(file_path)\n",
        "\n",
        "    # Check for required columns\n",
        "    required_columns = ['gFx', 'gFy', 'gFz', 'wx', 'wy', 'wz', 'ax', 'ay', 'az']\n",
        "    missing_columns = [col for col in required_columns if col not in df.columns]\n",
        "\n",
        "    if missing_columns:\n",
        "        raise ValueError(f\"Missing required columns: {missing_columns}\")\n",
        "\n",
        "    # Map CSV columns to required features\n",
        "    raw_data = np.hstack([\n",
        "        df[['gFx', 'gFy', 'gFz']].values,  # Body acceleration\n",
        "        df[['wx', 'wy', 'wz']].values,     # Gyroscope\n",
        "        df[['ax', 'ay', 'az']].values      # Total acceleration\n",
        "    ])\n",
        "\n",
        "    # Normalize if mean and std are provided\n",
        "    if train_mean is not None and train_std is not None:\n",
        "        raw_data = (raw_data - train_mean) / train_std\n",
        "\n",
        "    # Create windows of 128 timesteps\n",
        "    windows = []\n",
        "    for i in range(0, len(raw_data) - 127, 32):  # Stride of 32 for less overlap\n",
        "        window = raw_data[i:i+128]\n",
        "        if len(window) == 128:  # Ensure complete window\n",
        "            windows.append(window)\n",
        "\n",
        "    if not windows:\n",
        "        raise ValueError(\"Not enough data to create windows\")\n",
        "\n",
        "    return np.array(windows)"
      ]
    },
    {
      "cell_type": "code",
      "execution_count": null,
      "metadata": {
        "id": "RhpTRI1H9ug8"
      },
      "outputs": [],
      "source": [
        "# Post-processing for predictions\n",
        "def post_process_predictions(predictions, threshold=0.5, smoothing_window=5):\n",
        "    \"\"\"\n",
        "    Apply post-processing to raw predictions:\n",
        "    1. Threshold probabilities\n",
        "    2. Apply smoothing to reduce noise\n",
        "    3. Return predicted class indices and labels\n",
        "    \"\"\"\n",
        "    # Get predicted class indices\n",
        "    pred_indices = np.argmax(predictions, axis=1)\n",
        "\n",
        "    # Apply smoothing with a sliding window\n",
        "    if len(pred_indices) >= smoothing_window:\n",
        "        smoothed_indices = np.zeros_like(pred_indices)\n",
        "        for i in range(len(pred_indices)):\n",
        "            start = max(0, i - smoothing_window // 2)\n",
        "            end = min(len(pred_indices), i + smoothing_window // 2 + 1)\n",
        "            window = pred_indices[start:end]\n",
        "            # Most common class in window\n",
        "            values, counts = np.unique(window, return_counts=True)\n",
        "            smoothed_indices[i] = values[np.argmax(counts)]\n",
        "        pred_indices = smoothed_indices\n",
        "\n",
        "    # Map indices to activity labels (add 1 because activities are 1-indexed)\n",
        "    pred_labels = [ACTIVITIES[idx + 1] for idx in pred_indices]\n",
        "\n",
        "    return pred_indices, pred_labels"
      ]
    },
    {
      "cell_type": "code",
      "execution_count": null,
      "metadata": {
        "id": "FyC3R0Nq3PfS"
      },
      "outputs": [],
      "source": [
        "# Configure session settings\n",
        "session_conf = tf.compat.v1.ConfigProto(\n",
        "    intra_op_parallelism_threads=1,\n",
        "    inter_op_parallelism_threads=1\n",
        ")"
      ]
    },
    {
      "cell_type": "code",
      "execution_count": null,
      "metadata": {
        "id": "Ed-p2sqn3QX9"
      },
      "outputs": [],
      "source": [
        "# Start a session\n",
        "sess = tf.compat.v1.Session(graph=tf.compat.v1.get_default_graph(), config=session_conf)\n",
        "\n",
        "# Initializing parameters\n",
        "epochs = 50\n",
        "batch_size = 16\n",
        "n_hidden = 32"
      ]
    },
    {
      "cell_type": "code",
      "execution_count": null,
      "metadata": {
        "id": "LP5ZihmH9ug9"
      },
      "outputs": [],
      "source": [
        "# Utility function to count the number of classes\n",
        "def _count_classes(y):\n",
        "    return len(set([tuple(category) for category in y]))"
      ]
    },
    {
      "cell_type": "code",
      "execution_count": null,
      "metadata": {
        "colab": {
          "base_uri": "https://localhost:8080/"
        },
        "id": "2pjO6qiO9ug9",
        "outputId": "89ec7eee-ab4c-4034-9065-13decbd9931c"
      },
      "outputs": [
        {
          "output_type": "stream",
          "name": "stderr",
          "text": [
            "<ipython-input-7-2fc0c20de1db>:3: FutureWarning: The 'delim_whitespace' keyword in pd.read_csv is deprecated and will be removed in a future version. Use ``sep='\\s+'`` instead\n",
            "  return pd.read_csv(filename, delim_whitespace=True, header=None)\n",
            "<ipython-input-7-2fc0c20de1db>:3: FutureWarning: The 'delim_whitespace' keyword in pd.read_csv is deprecated and will be removed in a future version. Use ``sep='\\s+'`` instead\n",
            "  return pd.read_csv(filename, delim_whitespace=True, header=None)\n",
            "<ipython-input-7-2fc0c20de1db>:3: FutureWarning: The 'delim_whitespace' keyword in pd.read_csv is deprecated and will be removed in a future version. Use ``sep='\\s+'`` instead\n",
            "  return pd.read_csv(filename, delim_whitespace=True, header=None)\n",
            "<ipython-input-7-2fc0c20de1db>:3: FutureWarning: The 'delim_whitespace' keyword in pd.read_csv is deprecated and will be removed in a future version. Use ``sep='\\s+'`` instead\n",
            "  return pd.read_csv(filename, delim_whitespace=True, header=None)\n",
            "<ipython-input-7-2fc0c20de1db>:3: FutureWarning: The 'delim_whitespace' keyword in pd.read_csv is deprecated and will be removed in a future version. Use ``sep='\\s+'`` instead\n",
            "  return pd.read_csv(filename, delim_whitespace=True, header=None)\n",
            "<ipython-input-7-2fc0c20de1db>:3: FutureWarning: The 'delim_whitespace' keyword in pd.read_csv is deprecated and will be removed in a future version. Use ``sep='\\s+'`` instead\n",
            "  return pd.read_csv(filename, delim_whitespace=True, header=None)\n",
            "<ipython-input-7-2fc0c20de1db>:3: FutureWarning: The 'delim_whitespace' keyword in pd.read_csv is deprecated and will be removed in a future version. Use ``sep='\\s+'`` instead\n",
            "  return pd.read_csv(filename, delim_whitespace=True, header=None)\n",
            "<ipython-input-7-2fc0c20de1db>:3: FutureWarning: The 'delim_whitespace' keyword in pd.read_csv is deprecated and will be removed in a future version. Use ``sep='\\s+'`` instead\n",
            "  return pd.read_csv(filename, delim_whitespace=True, header=None)\n",
            "<ipython-input-7-2fc0c20de1db>:3: FutureWarning: The 'delim_whitespace' keyword in pd.read_csv is deprecated and will be removed in a future version. Use ``sep='\\s+'`` instead\n",
            "  return pd.read_csv(filename, delim_whitespace=True, header=None)\n",
            "<ipython-input-7-2fc0c20de1db>:3: FutureWarning: The 'delim_whitespace' keyword in pd.read_csv is deprecated and will be removed in a future version. Use ``sep='\\s+'`` instead\n",
            "  return pd.read_csv(filename, delim_whitespace=True, header=None)\n",
            "<ipython-input-7-2fc0c20de1db>:3: FutureWarning: The 'delim_whitespace' keyword in pd.read_csv is deprecated and will be removed in a future version. Use ``sep='\\s+'`` instead\n",
            "  return pd.read_csv(filename, delim_whitespace=True, header=None)\n",
            "<ipython-input-7-2fc0c20de1db>:3: FutureWarning: The 'delim_whitespace' keyword in pd.read_csv is deprecated and will be removed in a future version. Use ``sep='\\s+'`` instead\n",
            "  return pd.read_csv(filename, delim_whitespace=True, header=None)\n",
            "<ipython-input-7-2fc0c20de1db>:3: FutureWarning: The 'delim_whitespace' keyword in pd.read_csv is deprecated and will be removed in a future version. Use ``sep='\\s+'`` instead\n",
            "  return pd.read_csv(filename, delim_whitespace=True, header=None)\n",
            "<ipython-input-7-2fc0c20de1db>:3: FutureWarning: The 'delim_whitespace' keyword in pd.read_csv is deprecated and will be removed in a future version. Use ``sep='\\s+'`` instead\n",
            "  return pd.read_csv(filename, delim_whitespace=True, header=None)\n",
            "<ipython-input-7-2fc0c20de1db>:3: FutureWarning: The 'delim_whitespace' keyword in pd.read_csv is deprecated and will be removed in a future version. Use ``sep='\\s+'`` instead\n",
            "  return pd.read_csv(filename, delim_whitespace=True, header=None)\n",
            "<ipython-input-7-2fc0c20de1db>:3: FutureWarning: The 'delim_whitespace' keyword in pd.read_csv is deprecated and will be removed in a future version. Use ``sep='\\s+'`` instead\n",
            "  return pd.read_csv(filename, delim_whitespace=True, header=None)\n",
            "<ipython-input-7-2fc0c20de1db>:3: FutureWarning: The 'delim_whitespace' keyword in pd.read_csv is deprecated and will be removed in a future version. Use ``sep='\\s+'`` instead\n",
            "  return pd.read_csv(filename, delim_whitespace=True, header=None)\n",
            "<ipython-input-7-2fc0c20de1db>:3: FutureWarning: The 'delim_whitespace' keyword in pd.read_csv is deprecated and will be removed in a future version. Use ``sep='\\s+'`` instead\n",
            "  return pd.read_csv(filename, delim_whitespace=True, header=None)\n",
            "<ipython-input-7-2fc0c20de1db>:3: FutureWarning: The 'delim_whitespace' keyword in pd.read_csv is deprecated and will be removed in a future version. Use ``sep='\\s+'`` instead\n",
            "  return pd.read_csv(filename, delim_whitespace=True, header=None)\n",
            "<ipython-input-7-2fc0c20de1db>:3: FutureWarning: The 'delim_whitespace' keyword in pd.read_csv is deprecated and will be removed in a future version. Use ``sep='\\s+'`` instead\n",
            "  return pd.read_csv(filename, delim_whitespace=True, header=None)\n"
          ]
        }
      ],
      "source": [
        "# Loading the train and test data\n",
        "X_train, X_test, Y_train, Y_test, Y_train_raw, Y_test_raw = load_data()"
      ]
    },
    {
      "cell_type": "code",
      "execution_count": null,
      "metadata": {
        "colab": {
          "base_uri": "https://localhost:8080/"
        },
        "id": "Inc-n6Tc9ug9",
        "outputId": "a63dea73-fc39-4d8e-cc7d-8dd06e42e4c5"
      },
      "outputs": [
        {
          "output_type": "stream",
          "name": "stdout",
          "text": [
            "Timesteps: 128\n",
            "Input dimensions: 9\n",
            "Number of training samples: 7352\n",
            "Shape of training data: (7352, 128, 9)\n"
          ]
        }
      ],
      "source": [
        "timesteps = len(X_train[0])\n",
        "input_dim = len(X_train[0][0])\n",
        "n_classes = _count_classes(Y_train)\n",
        "print(f\"Timesteps: {timesteps}\")\n",
        "print(f\"Input dimensions: {input_dim}\")\n",
        "print(f\"Number of training samples: {len(X_train)}\")\n",
        "print(f\"Shape of training data: {X_train.shape}\")"
      ]
    },
    {
      "cell_type": "code",
      "execution_count": null,
      "metadata": {
        "id": "elaMdkAc9ug_"
      },
      "outputs": [],
      "source": [
        "# Calculate and store normalization parameters for external data processing\n",
        "train_mean = np.mean(X_train.reshape(-1, input_dim), axis=0)\n",
        "train_std = np.std(X_train.reshape(-1, input_dim), axis=0)\n",
        "np.save('train_normalization_params.npy', {'mean': train_mean, 'std': train_std})\n"
      ]
    },
    {
      "cell_type": "markdown",
      "metadata": {
        "id": "EXrsYqXE9ug_"
      },
      "source": [
        "## Defining LSTM Network model:"
      ]
    },
    {
      "cell_type": "code",
      "execution_count": null,
      "metadata": {
        "id": "nIhB0GFq3v9u"
      },
      "outputs": [],
      "source": [
        "\"\"\"## Defining LSTM Network model:\"\"\"\n",
        "\n",
        "# Define callbacks\n",
        "early_stopping = EarlyStopping(\n",
        "    monitor='val_loss',\n",
        "    patience=10,\n",
        "    restore_best_weights=True,\n",
        "    verbose=1\n",
        ")\n",
        "\n",
        "model_checkpoint = ModelCheckpoint(\n",
        "    'best_lstm_model.h5',\n",
        "    monitor='val_accuracy',\n",
        "    save_best_only=True,\n",
        "    verbose=1\n",
        ")"
      ]
    },
    {
      "cell_type": "code",
      "execution_count": null,
      "metadata": {
        "colab": {
          "base_uri": "https://localhost:8080/",
          "height": 225
        },
        "id": "7lT3L51c9uhA",
        "outputId": "fb1bd2c2-744b-4def-d27e-830ae7aa3a93"
      },
      "outputs": [
        {
          "output_type": "display_data",
          "data": {
            "text/plain": [
              "\u001b[1mModel: \"sequential\"\u001b[0m\n"
            ],
            "text/html": [
              "<pre style=\"white-space:pre;overflow-x:auto;line-height:normal;font-family:Menlo,'DejaVu Sans Mono',consolas,'Courier New',monospace\"><span style=\"font-weight: bold\">Model: \"sequential\"</span>\n",
              "</pre>\n"
            ]
          },
          "metadata": {}
        },
        {
          "output_type": "display_data",
          "data": {
            "text/plain": [
              "┏━━━━━━━━━━━━━━━━━━━━━━━━━━━━━━━━━━━━━━┳━━━━━━━━━━━━━━━━━━━━━━━━━━━━━┳━━━━━━━━━━━━━━━━━┓\n",
              "┃\u001b[1m \u001b[0m\u001b[1mLayer (type)                        \u001b[0m\u001b[1m \u001b[0m┃\u001b[1m \u001b[0m\u001b[1mOutput Shape               \u001b[0m\u001b[1m \u001b[0m┃\u001b[1m \u001b[0m\u001b[1m        Param #\u001b[0m\u001b[1m \u001b[0m┃\n",
              "┡━━━━━━━━━━━━━━━━━━━━━━━━━━━━━━━━━━━━━━╇━━━━━━━━━━━━━━━━━━━━━━━━━━━━━╇━━━━━━━━━━━━━━━━━┩\n",
              "│ bidirectional (\u001b[38;5;33mBidirectional\u001b[0m)        │ (\u001b[38;5;45mNone\u001b[0m, \u001b[38;5;34m64\u001b[0m)                  │          \u001b[38;5;34m10,752\u001b[0m │\n",
              "├──────────────────────────────────────┼─────────────────────────────┼─────────────────┤\n",
              "│ dropout (\u001b[38;5;33mDropout\u001b[0m)                    │ (\u001b[38;5;45mNone\u001b[0m, \u001b[38;5;34m64\u001b[0m)                  │               \u001b[38;5;34m0\u001b[0m │\n",
              "├──────────────────────────────────────┼─────────────────────────────┼─────────────────┤\n",
              "│ dense (\u001b[38;5;33mDense\u001b[0m)                        │ (\u001b[38;5;45mNone\u001b[0m, \u001b[38;5;34m6\u001b[0m)                   │             \u001b[38;5;34m390\u001b[0m │\n",
              "└──────────────────────────────────────┴─────────────────────────────┴─────────────────┘\n"
            ],
            "text/html": [
              "<pre style=\"white-space:pre;overflow-x:auto;line-height:normal;font-family:Menlo,'DejaVu Sans Mono',consolas,'Courier New',monospace\">┏━━━━━━━━━━━━━━━━━━━━━━━━━━━━━━━━━━━━━━┳━━━━━━━━━━━━━━━━━━━━━━━━━━━━━┳━━━━━━━━━━━━━━━━━┓\n",
              "┃<span style=\"font-weight: bold\"> Layer (type)                         </span>┃<span style=\"font-weight: bold\"> Output Shape                </span>┃<span style=\"font-weight: bold\">         Param # </span>┃\n",
              "┡━━━━━━━━━━━━━━━━━━━━━━━━━━━━━━━━━━━━━━╇━━━━━━━━━━━━━━━━━━━━━━━━━━━━━╇━━━━━━━━━━━━━━━━━┩\n",
              "│ bidirectional (<span style=\"color: #0087ff; text-decoration-color: #0087ff\">Bidirectional</span>)        │ (<span style=\"color: #00d7ff; text-decoration-color: #00d7ff\">None</span>, <span style=\"color: #00af00; text-decoration-color: #00af00\">64</span>)                  │          <span style=\"color: #00af00; text-decoration-color: #00af00\">10,752</span> │\n",
              "├──────────────────────────────────────┼─────────────────────────────┼─────────────────┤\n",
              "│ dropout (<span style=\"color: #0087ff; text-decoration-color: #0087ff\">Dropout</span>)                    │ (<span style=\"color: #00d7ff; text-decoration-color: #00d7ff\">None</span>, <span style=\"color: #00af00; text-decoration-color: #00af00\">64</span>)                  │               <span style=\"color: #00af00; text-decoration-color: #00af00\">0</span> │\n",
              "├──────────────────────────────────────┼─────────────────────────────┼─────────────────┤\n",
              "│ dense (<span style=\"color: #0087ff; text-decoration-color: #0087ff\">Dense</span>)                        │ (<span style=\"color: #00d7ff; text-decoration-color: #00d7ff\">None</span>, <span style=\"color: #00af00; text-decoration-color: #00af00\">6</span>)                   │             <span style=\"color: #00af00; text-decoration-color: #00af00\">390</span> │\n",
              "└──────────────────────────────────────┴─────────────────────────────┴─────────────────┘\n",
              "</pre>\n"
            ]
          },
          "metadata": {}
        },
        {
          "output_type": "display_data",
          "data": {
            "text/plain": [
              "\u001b[1m Total params: \u001b[0m\u001b[38;5;34m11,142\u001b[0m (43.52 KB)\n"
            ],
            "text/html": [
              "<pre style=\"white-space:pre;overflow-x:auto;line-height:normal;font-family:Menlo,'DejaVu Sans Mono',consolas,'Courier New',monospace\"><span style=\"font-weight: bold\"> Total params: </span><span style=\"color: #00af00; text-decoration-color: #00af00\">11,142</span> (43.52 KB)\n",
              "</pre>\n"
            ]
          },
          "metadata": {}
        },
        {
          "output_type": "display_data",
          "data": {
            "text/plain": [
              "\u001b[1m Trainable params: \u001b[0m\u001b[38;5;34m11,142\u001b[0m (43.52 KB)\n"
            ],
            "text/html": [
              "<pre style=\"white-space:pre;overflow-x:auto;line-height:normal;font-family:Menlo,'DejaVu Sans Mono',consolas,'Courier New',monospace\"><span style=\"font-weight: bold\"> Trainable params: </span><span style=\"color: #00af00; text-decoration-color: #00af00\">11,142</span> (43.52 KB)\n",
              "</pre>\n"
            ]
          },
          "metadata": {}
        },
        {
          "output_type": "display_data",
          "data": {
            "text/plain": [
              "\u001b[1m Non-trainable params: \u001b[0m\u001b[38;5;34m0\u001b[0m (0.00 B)\n"
            ],
            "text/html": [
              "<pre style=\"white-space:pre;overflow-x:auto;line-height:normal;font-family:Menlo,'DejaVu Sans Mono',consolas,'Courier New',monospace\"><span style=\"font-weight: bold\"> Non-trainable params: </span><span style=\"color: #00af00; text-decoration-color: #00af00\">0</span> (0.00 B)\n",
              "</pre>\n"
            ]
          },
          "metadata": {}
        }
      ],
      "source": [
        "# Initiliazing the sequential model\n",
        "model1 = Sequential()\n",
        "# Configuring the parameters with Bidirectional LSTM\n",
        "model1.add(Bidirectional(LSTM(n_hidden), input_shape=(timesteps, input_dim)))\n",
        "# Adding a dropout layer\n",
        "model1.add(Dropout(0.5))\n",
        "# Adding a dense output layer with softmax activation (changed from sigmoid)\n",
        "model1.add(Dense(n_classes, activation='softmax'))\n",
        "model1.summary()"
      ]
    },
    {
      "cell_type": "code",
      "execution_count": null,
      "metadata": {
        "id": "dn308vsD9uhA"
      },
      "outputs": [],
      "source": [
        "# Compiling the model\n",
        "model1.compile(loss='categorical_crossentropy',\n",
        "              optimizer='rmsprop',\n",
        "              metrics=['accuracy'])\n"
      ]
    },
    {
      "cell_type": "code",
      "execution_count": null,
      "metadata": {
        "colab": {
          "base_uri": "https://localhost:8080/"
        },
        "id": "w0IGipWh9uhA",
        "outputId": "932d9906-815d-4d45-e2a2-7c4fef326749"
      },
      "outputs": [
        {
          "output_type": "stream",
          "name": "stdout",
          "text": [
            "Epoch 1/50\n",
            "\u001b[1m460/460\u001b[0m \u001b[32m━━━━━━━━━━━━━━━━━━━━\u001b[0m\u001b[37m\u001b[0m \u001b[1m0s\u001b[0m 60ms/step - accuracy: 0.4760 - loss: 1.2478\n",
            "Epoch 1: val_accuracy improved from -inf to 0.69053, saving model to best_lstm_model.h5\n"
          ]
        },
        {
          "output_type": "stream",
          "name": "stderr",
          "text": [
            "WARNING:absl:You are saving your model as an HDF5 file via `model.save()` or `keras.saving.save_model(model)`. This file format is considered legacy. We recommend using instead the native Keras format, e.g. `model.save('my_model.keras')` or `keras.saving.save_model(model, 'my_model.keras')`. \n"
          ]
        },
        {
          "output_type": "stream",
          "name": "stdout",
          "text": [
            "\b\b\b\b\b\b\b\b\b\b\b\b\b\b\b\b\b\b\b\b\b\b\b\b\b\b\b\b\b\b\b\b\b\b\b\b\b\b\b\b\b\b\b\b\b\b\b\b\b\b\b\b\b\b\b\b\b\b\b\b\b\b\b\b\b\b\b\b\b\b\b\b\b\b\b\r\u001b[1m460/460\u001b[0m \u001b[32m━━━━━━━━━━━━━━━━━━━━\u001b[0m\u001b[37m\u001b[0m \u001b[1m37s\u001b[0m 73ms/step - accuracy: 0.4763 - loss: 1.2472 - val_accuracy: 0.6905 - val_loss: 0.7874\n",
            "Epoch 2/50\n",
            "\u001b[1m459/460\u001b[0m \u001b[32m━━━━━━━━━━━━━━━━━━━\u001b[0m\u001b[37m━\u001b[0m \u001b[1m0s\u001b[0m 58ms/step - accuracy: 0.7372 - loss: 0.6548\n",
            "Epoch 2: val_accuracy improved from 0.69053 to 0.76145, saving model to best_lstm_model.h5\n"
          ]
        },
        {
          "output_type": "stream",
          "name": "stderr",
          "text": [
            "WARNING:absl:You are saving your model as an HDF5 file via `model.save()` or `keras.saving.save_model(model)`. This file format is considered legacy. We recommend using instead the native Keras format, e.g. `model.save('my_model.keras')` or `keras.saving.save_model(model, 'my_model.keras')`. \n"
          ]
        },
        {
          "output_type": "stream",
          "name": "stdout",
          "text": [
            "\b\b\b\b\b\b\b\b\b\b\b\b\b\b\b\b\b\b\b\b\b\b\b\b\b\b\b\b\b\b\b\b\b\b\b\b\b\b\b\b\b\b\b\b\b\b\b\b\b\b\b\b\b\b\b\b\b\b\b\b\b\b\b\b\b\b\b\b\b\b\b\b\b\b\b\r\u001b[1m460/460\u001b[0m \u001b[32m━━━━━━━━━━━━━━━━━━━━\u001b[0m\u001b[37m\u001b[0m \u001b[1m37s\u001b[0m 63ms/step - accuracy: 0.7373 - loss: 0.6545 - val_accuracy: 0.7615 - val_loss: 0.6678\n",
            "Epoch 3/50\n",
            "\u001b[1m459/460\u001b[0m \u001b[32m━━━━━━━━━━━━━━━━━━━\u001b[0m\u001b[37m━\u001b[0m \u001b[1m0s\u001b[0m 58ms/step - accuracy: 0.8553 - loss: 0.4295\n",
            "Epoch 3: val_accuracy improved from 0.76145 to 0.83848, saving model to best_lstm_model.h5\n"
          ]
        },
        {
          "output_type": "stream",
          "name": "stderr",
          "text": [
            "WARNING:absl:You are saving your model as an HDF5 file via `model.save()` or `keras.saving.save_model(model)`. This file format is considered legacy. We recommend using instead the native Keras format, e.g. `model.save('my_model.keras')` or `keras.saving.save_model(model, 'my_model.keras')`. \n"
          ]
        },
        {
          "output_type": "stream",
          "name": "stdout",
          "text": [
            "\b\b\b\b\b\b\b\b\b\b\b\b\b\b\b\b\b\b\b\b\b\b\b\b\b\b\b\b\b\b\b\b\b\b\b\b\b\b\b\b\b\b\b\b\b\b\b\b\b\b\b\b\b\b\b\b\b\b\b\b\b\b\b\b\b\b\b\b\b\b\b\b\b\b\b\r\u001b[1m460/460\u001b[0m \u001b[32m━━━━━━━━━━━━━━━━━━━━\u001b[0m\u001b[37m\u001b[0m \u001b[1m41s\u001b[0m 64ms/step - accuracy: 0.8554 - loss: 0.4293 - val_accuracy: 0.8385 - val_loss: 0.4828\n",
            "Epoch 4/50\n",
            "\u001b[1m459/460\u001b[0m \u001b[32m━━━━━━━━━━━━━━━━━━━\u001b[0m\u001b[37m━\u001b[0m \u001b[1m0s\u001b[0m 57ms/step - accuracy: 0.8888 - loss: 0.3162\n",
            "Epoch 4: val_accuracy improved from 0.83848 to 0.86155, saving model to best_lstm_model.h5\n"
          ]
        },
        {
          "output_type": "stream",
          "name": "stderr",
          "text": [
            "WARNING:absl:You are saving your model as an HDF5 file via `model.save()` or `keras.saving.save_model(model)`. This file format is considered legacy. We recommend using instead the native Keras format, e.g. `model.save('my_model.keras')` or `keras.saving.save_model(model, 'my_model.keras')`. \n"
          ]
        },
        {
          "output_type": "stream",
          "name": "stdout",
          "text": [
            "\b\b\b\b\b\b\b\b\b\b\b\b\b\b\b\b\b\b\b\b\b\b\b\b\b\b\b\b\b\b\b\b\b\b\b\b\b\b\b\b\b\b\b\b\b\b\b\b\b\b\b\b\b\b\b\b\b\b\b\b\b\b\b\b\b\b\b\b\b\b\b\b\b\b\b\r\u001b[1m460/460\u001b[0m \u001b[32m━━━━━━━━━━━━━━━━━━━━\u001b[0m\u001b[37m\u001b[0m \u001b[1m32s\u001b[0m 69ms/step - accuracy: 0.8888 - loss: 0.3162 - val_accuracy: 0.8616 - val_loss: 0.4544\n",
            "Epoch 5/50\n",
            "\u001b[1m459/460\u001b[0m \u001b[32m━━━━━━━━━━━━━━━━━━━\u001b[0m\u001b[37m━\u001b[0m \u001b[1m0s\u001b[0m 58ms/step - accuracy: 0.9110 - loss: 0.2668\n",
            "Epoch 5: val_accuracy improved from 0.86155 to 0.87852, saving model to best_lstm_model.h5\n"
          ]
        },
        {
          "output_type": "stream",
          "name": "stderr",
          "text": [
            "WARNING:absl:You are saving your model as an HDF5 file via `model.save()` or `keras.saving.save_model(model)`. This file format is considered legacy. We recommend using instead the native Keras format, e.g. `model.save('my_model.keras')` or `keras.saving.save_model(model, 'my_model.keras')`. \n"
          ]
        },
        {
          "output_type": "stream",
          "name": "stdout",
          "text": [
            "\b\b\b\b\b\b\b\b\b\b\b\b\b\b\b\b\b\b\b\b\b\b\b\b\b\b\b\b\b\b\b\b\b\b\b\b\b\b\b\b\b\b\b\b\b\b\b\b\b\b\b\b\b\b\b\b\b\b\b\b\b\b\b\b\b\b\b\b\b\b\b\b\b\b\b\r\u001b[1m460/460\u001b[0m \u001b[32m━━━━━━━━━━━━━━━━━━━━\u001b[0m\u001b[37m\u001b[0m \u001b[1m39s\u001b[0m 65ms/step - accuracy: 0.9111 - loss: 0.2668 - val_accuracy: 0.8785 - val_loss: 0.3585\n",
            "Epoch 6/50\n",
            "\u001b[1m459/460\u001b[0m \u001b[32m━━━━━━━━━━━━━━━━━━━\u001b[0m\u001b[37m━\u001b[0m \u001b[1m0s\u001b[0m 58ms/step - accuracy: 0.9190 - loss: 0.2186\n",
            "Epoch 6: val_accuracy improved from 0.87852 to 0.88802, saving model to best_lstm_model.h5\n"
          ]
        },
        {
          "output_type": "stream",
          "name": "stderr",
          "text": [
            "WARNING:absl:You are saving your model as an HDF5 file via `model.save()` or `keras.saving.save_model(model)`. This file format is considered legacy. We recommend using instead the native Keras format, e.g. `model.save('my_model.keras')` or `keras.saving.save_model(model, 'my_model.keras')`. \n"
          ]
        },
        {
          "output_type": "stream",
          "name": "stdout",
          "text": [
            "\b\b\b\b\b\b\b\b\b\b\b\b\b\b\b\b\b\b\b\b\b\b\b\b\b\b\b\b\b\b\b\b\b\b\b\b\b\b\b\b\b\b\b\b\b\b\b\b\b\b\b\b\b\b\b\b\b\b\b\b\b\b\b\b\b\b\b\b\b\b\b\b\b\b\b\r\u001b[1m460/460\u001b[0m \u001b[32m━━━━━━━━━━━━━━━━━━━━\u001b[0m\u001b[37m\u001b[0m \u001b[1m43s\u001b[0m 70ms/step - accuracy: 0.9191 - loss: 0.2186 - val_accuracy: 0.8880 - val_loss: 0.3012\n",
            "Epoch 7/50\n",
            "\u001b[1m460/460\u001b[0m \u001b[32m━━━━━━━━━━━━━━━━━━━━\u001b[0m\u001b[37m\u001b[0m \u001b[1m0s\u001b[0m 56ms/step - accuracy: 0.9267 - loss: 0.2024\n",
            "Epoch 7: val_accuracy improved from 0.88802 to 0.89617, saving model to best_lstm_model.h5\n"
          ]
        },
        {
          "output_type": "stream",
          "name": "stderr",
          "text": [
            "WARNING:absl:You are saving your model as an HDF5 file via `model.save()` or `keras.saving.save_model(model)`. This file format is considered legacy. We recommend using instead the native Keras format, e.g. `model.save('my_model.keras')` or `keras.saving.save_model(model, 'my_model.keras')`. \n"
          ]
        },
        {
          "output_type": "stream",
          "name": "stdout",
          "text": [
            "\b\b\b\b\b\b\b\b\b\b\b\b\b\b\b\b\b\b\b\b\b\b\b\b\b\b\b\b\b\b\b\b\b\b\b\b\b\b\b\b\b\b\b\b\b\b\b\b\b\b\b\b\b\b\b\b\b\b\b\b\b\b\b\b\b\b\b\b\b\b\b\b\b\b\b\r\u001b[1m460/460\u001b[0m \u001b[32m━━━━━━━━━━━━━━━━━━━━\u001b[0m\u001b[37m\u001b[0m \u001b[1m29s\u001b[0m 63ms/step - accuracy: 0.9267 - loss: 0.2023 - val_accuracy: 0.8962 - val_loss: 0.3089\n",
            "Epoch 8/50\n",
            "\u001b[1m460/460\u001b[0m \u001b[32m━━━━━━━━━━━━━━━━━━━━\u001b[0m\u001b[37m\u001b[0m \u001b[1m0s\u001b[0m 57ms/step - accuracy: 0.9346 - loss: 0.1826\n",
            "Epoch 8: val_accuracy did not improve from 0.89617\n",
            "\u001b[1m460/460\u001b[0m \u001b[32m━━━━━━━━━━━━━━━━━━━━\u001b[0m\u001b[37m\u001b[0m \u001b[1m43s\u001b[0m 68ms/step - accuracy: 0.9346 - loss: 0.1825 - val_accuracy: 0.8924 - val_loss: 0.3144\n",
            "Epoch 9/50\n",
            "\u001b[1m460/460\u001b[0m \u001b[32m━━━━━━━━━━━━━━━━━━━━\u001b[0m\u001b[37m\u001b[0m \u001b[1m0s\u001b[0m 58ms/step - accuracy: 0.9355 - loss: 0.1674\n",
            "Epoch 9: val_accuracy improved from 0.89617 to 0.91653, saving model to best_lstm_model.h5\n"
          ]
        },
        {
          "output_type": "stream",
          "name": "stderr",
          "text": [
            "WARNING:absl:You are saving your model as an HDF5 file via `model.save()` or `keras.saving.save_model(model)`. This file format is considered legacy. We recommend using instead the native Keras format, e.g. `model.save('my_model.keras')` or `keras.saving.save_model(model, 'my_model.keras')`. \n"
          ]
        },
        {
          "output_type": "stream",
          "name": "stdout",
          "text": [
            "\b\b\b\b\b\b\b\b\b\b\b\b\b\b\b\b\b\b\b\b\b\b\b\b\b\b\b\b\b\b\b\b\b\b\b\b\b\b\b\b\b\b\b\b\b\b\b\b\b\b\b\b\b\b\b\b\b\b\b\b\b\b\b\b\b\b\b\b\b\b\b\b\b\b\b\r\u001b[1m460/460\u001b[0m \u001b[32m━━━━━━━━━━━━━━━━━━━━\u001b[0m\u001b[37m\u001b[0m \u001b[1m39s\u001b[0m 63ms/step - accuracy: 0.9355 - loss: 0.1674 - val_accuracy: 0.9165 - val_loss: 0.2386\n",
            "Epoch 10/50\n",
            "\u001b[1m459/460\u001b[0m \u001b[32m━━━━━━━━━━━━━━━━━━━\u001b[0m\u001b[37m━\u001b[0m \u001b[1m0s\u001b[0m 57ms/step - accuracy: 0.9356 - loss: 0.1694\n",
            "Epoch 10: val_accuracy did not improve from 0.91653\n",
            "\u001b[1m460/460\u001b[0m \u001b[32m━━━━━━━━━━━━━━━━━━━━\u001b[0m\u001b[37m\u001b[0m \u001b[1m41s\u001b[0m 63ms/step - accuracy: 0.9356 - loss: 0.1694 - val_accuracy: 0.9019 - val_loss: 0.3262\n",
            "Epoch 11/50\n",
            "\u001b[1m460/460\u001b[0m \u001b[32m━━━━━━━━━━━━━━━━━━━━\u001b[0m\u001b[37m\u001b[0m \u001b[1m0s\u001b[0m 57ms/step - accuracy: 0.9395 - loss: 0.1550\n",
            "Epoch 11: val_accuracy did not improve from 0.91653\n",
            "\u001b[1m460/460\u001b[0m \u001b[32m━━━━━━━━━━━━━━━━━━━━\u001b[0m\u001b[37m\u001b[0m \u001b[1m41s\u001b[0m 63ms/step - accuracy: 0.9395 - loss: 0.1550 - val_accuracy: 0.9019 - val_loss: 0.2715\n",
            "Epoch 12/50\n",
            "\u001b[1m460/460\u001b[0m \u001b[32m━━━━━━━━━━━━━━━━━━━━\u001b[0m\u001b[37m\u001b[0m \u001b[1m0s\u001b[0m 62ms/step - accuracy: 0.9397 - loss: 0.1629\n",
            "Epoch 12: val_accuracy did not improve from 0.91653\n",
            "\u001b[1m460/460\u001b[0m \u001b[32m━━━━━━━━━━━━━━━━━━━━\u001b[0m\u001b[37m\u001b[0m \u001b[1m43s\u001b[0m 68ms/step - accuracy: 0.9397 - loss: 0.1629 - val_accuracy: 0.8914 - val_loss: 0.3603\n",
            "Epoch 13/50\n",
            "\u001b[1m459/460\u001b[0m \u001b[32m━━━━━━━━━━━━━━━━━━━\u001b[0m\u001b[37m━\u001b[0m \u001b[1m0s\u001b[0m 57ms/step - accuracy: 0.9442 - loss: 0.1565\n",
            "Epoch 13: val_accuracy did not improve from 0.91653\n",
            "\u001b[1m460/460\u001b[0m \u001b[32m━━━━━━━━━━━━━━━━━━━━\u001b[0m\u001b[37m\u001b[0m \u001b[1m39s\u001b[0m 63ms/step - accuracy: 0.9443 - loss: 0.1564 - val_accuracy: 0.9074 - val_loss: 0.2467\n",
            "Epoch 14/50\n",
            "\u001b[1m459/460\u001b[0m \u001b[32m━━━━━━━━━━━━━━━━━━━\u001b[0m\u001b[37m━\u001b[0m \u001b[1m0s\u001b[0m 57ms/step - accuracy: 0.9453 - loss: 0.1387\n",
            "Epoch 14: val_accuracy did not improve from 0.91653\n",
            "\u001b[1m460/460\u001b[0m \u001b[32m━━━━━━━━━━━━━━━━━━━━\u001b[0m\u001b[37m\u001b[0m \u001b[1m41s\u001b[0m 63ms/step - accuracy: 0.9453 - loss: 0.1387 - val_accuracy: 0.8989 - val_loss: 0.3329\n",
            "Epoch 15/50\n",
            "\u001b[1m459/460\u001b[0m \u001b[32m━━━━━━━━━━━━━━━━━━━\u001b[0m\u001b[37m━\u001b[0m \u001b[1m0s\u001b[0m 58ms/step - accuracy: 0.9458 - loss: 0.1452\n",
            "Epoch 15: val_accuracy did not improve from 0.91653\n",
            "\u001b[1m460/460\u001b[0m \u001b[32m━━━━━━━━━━━━━━━━━━━━\u001b[0m\u001b[37m\u001b[0m \u001b[1m41s\u001b[0m 63ms/step - accuracy: 0.9458 - loss: 0.1452 - val_accuracy: 0.9060 - val_loss: 0.3513\n",
            "Epoch 16/50\n",
            "\u001b[1m460/460\u001b[0m \u001b[32m━━━━━━━━━━━━━━━━━━━━\u001b[0m\u001b[37m\u001b[0m \u001b[1m0s\u001b[0m 58ms/step - accuracy: 0.9460 - loss: 0.1583\n",
            "Epoch 16: val_accuracy did not improve from 0.91653\n",
            "\u001b[1m460/460\u001b[0m \u001b[32m━━━━━━━━━━━━━━━━━━━━\u001b[0m\u001b[37m\u001b[0m \u001b[1m41s\u001b[0m 64ms/step - accuracy: 0.9460 - loss: 0.1583 - val_accuracy: 0.9033 - val_loss: 0.4142\n",
            "Epoch 17/50\n",
            "\u001b[1m460/460\u001b[0m \u001b[32m━━━━━━━━━━━━━━━━━━━━\u001b[0m\u001b[37m\u001b[0m \u001b[1m0s\u001b[0m 58ms/step - accuracy: 0.9424 - loss: 0.1415\n",
            "Epoch 17: val_accuracy did not improve from 0.91653\n",
            "\u001b[1m460/460\u001b[0m \u001b[32m━━━━━━━━━━━━━━━━━━━━\u001b[0m\u001b[37m\u001b[0m \u001b[1m41s\u001b[0m 63ms/step - accuracy: 0.9424 - loss: 0.1415 - val_accuracy: 0.9097 - val_loss: 0.2906\n",
            "Epoch 18/50\n",
            "\u001b[1m459/460\u001b[0m \u001b[32m━━━━━━━━━━━━━━━━━━━\u001b[0m\u001b[37m━\u001b[0m \u001b[1m0s\u001b[0m 58ms/step - accuracy: 0.9453 - loss: 0.1400\n",
            "Epoch 18: val_accuracy did not improve from 0.91653\n",
            "\u001b[1m460/460\u001b[0m \u001b[32m━━━━━━━━━━━━━━━━━━━━\u001b[0m\u001b[37m\u001b[0m \u001b[1m29s\u001b[0m 64ms/step - accuracy: 0.9453 - loss: 0.1400 - val_accuracy: 0.9155 - val_loss: 0.2822\n",
            "Epoch 19/50\n",
            "\u001b[1m459/460\u001b[0m \u001b[32m━━━━━━━━━━━━━━━━━━━\u001b[0m\u001b[37m━\u001b[0m \u001b[1m0s\u001b[0m 58ms/step - accuracy: 0.9463 - loss: 0.1394\n",
            "Epoch 19: val_accuracy did not improve from 0.91653\n",
            "\u001b[1m460/460\u001b[0m \u001b[32m━━━━━━━━━━━━━━━━━━━━\u001b[0m\u001b[37m\u001b[0m \u001b[1m29s\u001b[0m 64ms/step - accuracy: 0.9464 - loss: 0.1393 - val_accuracy: 0.8904 - val_loss: 0.3494\n",
            "Epoch 19: early stopping\n",
            "Restoring model weights from the end of the best epoch: 9.\n"
          ]
        }
      ],
      "source": [
        "# Training the model with early stopping and checkpoints\n",
        "lstm_history = model1.fit(X_train,\n",
        "          Y_train,\n",
        "          batch_size=batch_size,\n",
        "          validation_data=(X_test, Y_test),\n",
        "          epochs=epochs,\n",
        "          callbacks=[early_stopping, model_checkpoint])"
      ]
    },
    {
      "cell_type": "code",
      "execution_count": null,
      "metadata": {
        "colab": {
          "base_uri": "https://localhost:8080/"
        },
        "id": "G96Cx_vg9uhB",
        "outputId": "99aaeca6-ab4f-485c-87e3-1d381cf240cd"
      },
      "outputs": [
        {
          "output_type": "stream",
          "name": "stdout",
          "text": [
            "\u001b[1m93/93\u001b[0m \u001b[32m━━━━━━━━━━━━━━━━━━━━\u001b[0m\u001b[37m\u001b[0m \u001b[1m2s\u001b[0m 16ms/step - accuracy: 0.8889 - loss: 0.3046\n",
            "Accuracy:  0.9165253043174744\n",
            "Loss:  0.23862195014953613\n"
          ]
        }
      ],
      "source": [
        "# Testing\n",
        "score = model1.evaluate(X_test, Y_test)\n",
        "print(\"Accuracy: \", score[1])\n",
        "print(\"Loss: \", score[0])"
      ]
    },
    {
      "cell_type": "code",
      "execution_count": null,
      "metadata": {
        "colab": {
          "base_uri": "https://localhost:8080/"
        },
        "id": "-R5gbTEf9uhB",
        "outputId": "450657b3-56ab-499a-dc4a-4a91a092f110"
      },
      "outputs": [
        {
          "output_type": "stream",
          "name": "stdout",
          "text": [
            "\u001b[1m93/93\u001b[0m \u001b[32m━━━━━━━━━━━━━━━━━━━━\u001b[0m\u001b[37m\u001b[0m \u001b[1m3s\u001b[0m 31ms/step\n"
          ]
        }
      ],
      "source": [
        "# Generate predictions for confusion matrix\n",
        "y_pred = model1.predict(X_test)\n",
        "y_pred_classes = np.argmax(y_pred, axis=1)\n",
        "y_true_classes = np.argmax(Y_test, axis=1)"
      ]
    },
    {
      "cell_type": "code",
      "execution_count": null,
      "metadata": {
        "colab": {
          "base_uri": "https://localhost:8080/"
        },
        "id": "tqgMVfAQ4TXp",
        "outputId": "f0493bbd-05e4-4a9c-8ca1-7419fc0b2b8d"
      },
      "outputs": [
        {
          "output_type": "stream",
          "name": "stdout",
          "text": [
            "Confusion Matrix:\n",
            "[[468   6  22   0   0   0]\n",
            " [  6 443  21   1   0   0]\n",
            " [  2   1 417   0   0   0]\n",
            " [  0   2   0 368 121   0]\n",
            " [  5   1   0  57 469   0]\n",
            " [  0   1   0   0   0 536]]\n",
            "Classification Report:\n",
            "                    precision    recall  f1-score   support\n",
            "\n",
            "           WALKING       0.97      0.94      0.96       496\n",
            "  WALKING_UPSTAIRS       0.98      0.94      0.96       471\n",
            "WALKING_DOWNSTAIRS       0.91      0.99      0.95       420\n",
            "           SITTING       0.86      0.75      0.80       491\n",
            "          STANDING       0.79      0.88      0.84       532\n",
            "            LAYING       1.00      1.00      1.00       537\n",
            "\n",
            "          accuracy                           0.92      2947\n",
            "         macro avg       0.92      0.92      0.92      2947\n",
            "      weighted avg       0.92      0.92      0.92      2947\n",
            "\n"
          ]
        }
      ],
      "source": [
        "# Display confusion matrix\n",
        "print(\"Confusion Matrix:\")\n",
        "print(confusion_matrix(y_true_classes, y_pred_classes))\n",
        "\n",
        "# Display classification report\n",
        "print(\"Classification Report:\")\n",
        "print(classification_report(y_true_classes, y_pred_classes,\n",
        "                          target_names=[ACTIVITIES[i+1] for i in range(n_classes)]))\n"
      ]
    },
    {
      "cell_type": "markdown",
      "metadata": {
        "id": "vlNh5lMf9uhB"
      },
      "source": [
        "## Defining CNN-LSTM Network model:"
      ]
    },
    {
      "cell_type": "code",
      "execution_count": null,
      "metadata": {
        "colab": {
          "base_uri": "https://localhost:8080/"
        },
        "id": "RL6ibvgP9uhB",
        "outputId": "30325d35-7581-4f99-e07e-ba617cea7753"
      },
      "outputs": [
        {
          "output_type": "stream",
          "name": "stdout",
          "text": [
            "Reshaped data for CNN-LSTM: (7352, 4, 32, 9)\n"
          ]
        }
      ],
      "source": [
        "\"\"\"## Defining CNN-LSTM Network model:\"\"\"\n",
        "\n",
        "# Reshape data for CNN-LSTM model\n",
        "n_steps, n_length = 4, 32\n",
        "X_train_cnn = X_train.reshape((X_train.shape[0], n_steps, n_length, input_dim))\n",
        "X_test_cnn = X_test.reshape((X_test.shape[0], n_steps, n_length, input_dim))\n",
        "\n",
        "print(f\"Reshaped data for CNN-LSTM: {X_train_cnn.shape}\")"
      ]
    },
    {
      "cell_type": "code",
      "execution_count": null,
      "metadata": {
        "colab": {
          "base_uri": "https://localhost:8080/",
          "height": 417
        },
        "id": "0AvQSwE69uhC",
        "outputId": "73df8468-84cb-4d23-e189-bf979e0e545b"
      },
      "outputs": [
        {
          "output_type": "display_data",
          "data": {
            "text/plain": [
              "\u001b[1mModel: \"sequential_1\"\u001b[0m\n"
            ],
            "text/html": [
              "<pre style=\"white-space:pre;overflow-x:auto;line-height:normal;font-family:Menlo,'DejaVu Sans Mono',consolas,'Courier New',monospace\"><span style=\"font-weight: bold\">Model: \"sequential_1\"</span>\n",
              "</pre>\n"
            ]
          },
          "metadata": {}
        },
        {
          "output_type": "display_data",
          "data": {
            "text/plain": [
              "┏━━━━━━━━━━━━━━━━━━━━━━━━━━━━━━━━━━━━━━┳━━━━━━━━━━━━━━━━━━━━━━━━━━━━━┳━━━━━━━━━━━━━━━━━┓\n",
              "┃\u001b[1m \u001b[0m\u001b[1mLayer (type)                        \u001b[0m\u001b[1m \u001b[0m┃\u001b[1m \u001b[0m\u001b[1mOutput Shape               \u001b[0m\u001b[1m \u001b[0m┃\u001b[1m \u001b[0m\u001b[1m        Param #\u001b[0m\u001b[1m \u001b[0m┃\n",
              "┡━━━━━━━━━━━━━━━━━━━━━━━━━━━━━━━━━━━━━━╇━━━━━━━━━━━━━━━━━━━━━━━━━━━━━╇━━━━━━━━━━━━━━━━━┩\n",
              "│ time_distributed (\u001b[38;5;33mTimeDistributed\u001b[0m)   │ (\u001b[38;5;45mNone\u001b[0m, \u001b[38;5;45mNone\u001b[0m, \u001b[38;5;34m30\u001b[0m, \u001b[38;5;34m64\u001b[0m)        │           \u001b[38;5;34m1,792\u001b[0m │\n",
              "├──────────────────────────────────────┼─────────────────────────────┼─────────────────┤\n",
              "│ time_distributed_1 (\u001b[38;5;33mTimeDistributed\u001b[0m) │ (\u001b[38;5;45mNone\u001b[0m, \u001b[38;5;45mNone\u001b[0m, \u001b[38;5;34m28\u001b[0m, \u001b[38;5;34m64\u001b[0m)        │          \u001b[38;5;34m12,352\u001b[0m │\n",
              "├──────────────────────────────────────┼─────────────────────────────┼─────────────────┤\n",
              "│ time_distributed_2 (\u001b[38;5;33mTimeDistributed\u001b[0m) │ (\u001b[38;5;45mNone\u001b[0m, \u001b[38;5;45mNone\u001b[0m, \u001b[38;5;34m28\u001b[0m, \u001b[38;5;34m64\u001b[0m)        │               \u001b[38;5;34m0\u001b[0m │\n",
              "├──────────────────────────────────────┼─────────────────────────────┼─────────────────┤\n",
              "│ time_distributed_3 (\u001b[38;5;33mTimeDistributed\u001b[0m) │ (\u001b[38;5;45mNone\u001b[0m, \u001b[38;5;45mNone\u001b[0m, \u001b[38;5;34m14\u001b[0m, \u001b[38;5;34m64\u001b[0m)        │               \u001b[38;5;34m0\u001b[0m │\n",
              "├──────────────────────────────────────┼─────────────────────────────┼─────────────────┤\n",
              "│ time_distributed_4 (\u001b[38;5;33mTimeDistributed\u001b[0m) │ (\u001b[38;5;45mNone\u001b[0m, \u001b[38;5;45mNone\u001b[0m, \u001b[38;5;34m896\u001b[0m)           │               \u001b[38;5;34m0\u001b[0m │\n",
              "├──────────────────────────────────────┼─────────────────────────────┼─────────────────┤\n",
              "│ bidirectional_1 (\u001b[38;5;33mBidirectional\u001b[0m)      │ (\u001b[38;5;45mNone\u001b[0m, \u001b[38;5;34m64\u001b[0m)                  │         \u001b[38;5;34m237,824\u001b[0m │\n",
              "├──────────────────────────────────────┼─────────────────────────────┼─────────────────┤\n",
              "│ dropout_2 (\u001b[38;5;33mDropout\u001b[0m)                  │ (\u001b[38;5;45mNone\u001b[0m, \u001b[38;5;34m64\u001b[0m)                  │               \u001b[38;5;34m0\u001b[0m │\n",
              "├──────────────────────────────────────┼─────────────────────────────┼─────────────────┤\n",
              "│ dense_1 (\u001b[38;5;33mDense\u001b[0m)                      │ (\u001b[38;5;45mNone\u001b[0m, \u001b[38;5;34m32\u001b[0m)                  │           \u001b[38;5;34m2,080\u001b[0m │\n",
              "├──────────────────────────────────────┼─────────────────────────────┼─────────────────┤\n",
              "│ dense_2 (\u001b[38;5;33mDense\u001b[0m)                      │ (\u001b[38;5;45mNone\u001b[0m, \u001b[38;5;34m6\u001b[0m)                   │             \u001b[38;5;34m198\u001b[0m │\n",
              "└──────────────────────────────────────┴─────────────────────────────┴─────────────────┘\n"
            ],
            "text/html": [
              "<pre style=\"white-space:pre;overflow-x:auto;line-height:normal;font-family:Menlo,'DejaVu Sans Mono',consolas,'Courier New',monospace\">┏━━━━━━━━━━━━━━━━━━━━━━━━━━━━━━━━━━━━━━┳━━━━━━━━━━━━━━━━━━━━━━━━━━━━━┳━━━━━━━━━━━━━━━━━┓\n",
              "┃<span style=\"font-weight: bold\"> Layer (type)                         </span>┃<span style=\"font-weight: bold\"> Output Shape                </span>┃<span style=\"font-weight: bold\">         Param # </span>┃\n",
              "┡━━━━━━━━━━━━━━━━━━━━━━━━━━━━━━━━━━━━━━╇━━━━━━━━━━━━━━━━━━━━━━━━━━━━━╇━━━━━━━━━━━━━━━━━┩\n",
              "│ time_distributed (<span style=\"color: #0087ff; text-decoration-color: #0087ff\">TimeDistributed</span>)   │ (<span style=\"color: #00d7ff; text-decoration-color: #00d7ff\">None</span>, <span style=\"color: #00d7ff; text-decoration-color: #00d7ff\">None</span>, <span style=\"color: #00af00; text-decoration-color: #00af00\">30</span>, <span style=\"color: #00af00; text-decoration-color: #00af00\">64</span>)        │           <span style=\"color: #00af00; text-decoration-color: #00af00\">1,792</span> │\n",
              "├──────────────────────────────────────┼─────────────────────────────┼─────────────────┤\n",
              "│ time_distributed_1 (<span style=\"color: #0087ff; text-decoration-color: #0087ff\">TimeDistributed</span>) │ (<span style=\"color: #00d7ff; text-decoration-color: #00d7ff\">None</span>, <span style=\"color: #00d7ff; text-decoration-color: #00d7ff\">None</span>, <span style=\"color: #00af00; text-decoration-color: #00af00\">28</span>, <span style=\"color: #00af00; text-decoration-color: #00af00\">64</span>)        │          <span style=\"color: #00af00; text-decoration-color: #00af00\">12,352</span> │\n",
              "├──────────────────────────────────────┼─────────────────────────────┼─────────────────┤\n",
              "│ time_distributed_2 (<span style=\"color: #0087ff; text-decoration-color: #0087ff\">TimeDistributed</span>) │ (<span style=\"color: #00d7ff; text-decoration-color: #00d7ff\">None</span>, <span style=\"color: #00d7ff; text-decoration-color: #00d7ff\">None</span>, <span style=\"color: #00af00; text-decoration-color: #00af00\">28</span>, <span style=\"color: #00af00; text-decoration-color: #00af00\">64</span>)        │               <span style=\"color: #00af00; text-decoration-color: #00af00\">0</span> │\n",
              "├──────────────────────────────────────┼─────────────────────────────┼─────────────────┤\n",
              "│ time_distributed_3 (<span style=\"color: #0087ff; text-decoration-color: #0087ff\">TimeDistributed</span>) │ (<span style=\"color: #00d7ff; text-decoration-color: #00d7ff\">None</span>, <span style=\"color: #00d7ff; text-decoration-color: #00d7ff\">None</span>, <span style=\"color: #00af00; text-decoration-color: #00af00\">14</span>, <span style=\"color: #00af00; text-decoration-color: #00af00\">64</span>)        │               <span style=\"color: #00af00; text-decoration-color: #00af00\">0</span> │\n",
              "├──────────────────────────────────────┼─────────────────────────────┼─────────────────┤\n",
              "│ time_distributed_4 (<span style=\"color: #0087ff; text-decoration-color: #0087ff\">TimeDistributed</span>) │ (<span style=\"color: #00d7ff; text-decoration-color: #00d7ff\">None</span>, <span style=\"color: #00d7ff; text-decoration-color: #00d7ff\">None</span>, <span style=\"color: #00af00; text-decoration-color: #00af00\">896</span>)           │               <span style=\"color: #00af00; text-decoration-color: #00af00\">0</span> │\n",
              "├──────────────────────────────────────┼─────────────────────────────┼─────────────────┤\n",
              "│ bidirectional_1 (<span style=\"color: #0087ff; text-decoration-color: #0087ff\">Bidirectional</span>)      │ (<span style=\"color: #00d7ff; text-decoration-color: #00d7ff\">None</span>, <span style=\"color: #00af00; text-decoration-color: #00af00\">64</span>)                  │         <span style=\"color: #00af00; text-decoration-color: #00af00\">237,824</span> │\n",
              "├──────────────────────────────────────┼─────────────────────────────┼─────────────────┤\n",
              "│ dropout_2 (<span style=\"color: #0087ff; text-decoration-color: #0087ff\">Dropout</span>)                  │ (<span style=\"color: #00d7ff; text-decoration-color: #00d7ff\">None</span>, <span style=\"color: #00af00; text-decoration-color: #00af00\">64</span>)                  │               <span style=\"color: #00af00; text-decoration-color: #00af00\">0</span> │\n",
              "├──────────────────────────────────────┼─────────────────────────────┼─────────────────┤\n",
              "│ dense_1 (<span style=\"color: #0087ff; text-decoration-color: #0087ff\">Dense</span>)                      │ (<span style=\"color: #00d7ff; text-decoration-color: #00d7ff\">None</span>, <span style=\"color: #00af00; text-decoration-color: #00af00\">32</span>)                  │           <span style=\"color: #00af00; text-decoration-color: #00af00\">2,080</span> │\n",
              "├──────────────────────────────────────┼─────────────────────────────┼─────────────────┤\n",
              "│ dense_2 (<span style=\"color: #0087ff; text-decoration-color: #0087ff\">Dense</span>)                      │ (<span style=\"color: #00d7ff; text-decoration-color: #00d7ff\">None</span>, <span style=\"color: #00af00; text-decoration-color: #00af00\">6</span>)                   │             <span style=\"color: #00af00; text-decoration-color: #00af00\">198</span> │\n",
              "└──────────────────────────────────────┴─────────────────────────────┴─────────────────┘\n",
              "</pre>\n"
            ]
          },
          "metadata": {}
        },
        {
          "output_type": "display_data",
          "data": {
            "text/plain": [
              "\u001b[1m Total params: \u001b[0m\u001b[38;5;34m254,246\u001b[0m (993.15 KB)\n"
            ],
            "text/html": [
              "<pre style=\"white-space:pre;overflow-x:auto;line-height:normal;font-family:Menlo,'DejaVu Sans Mono',consolas,'Courier New',monospace\"><span style=\"font-weight: bold\"> Total params: </span><span style=\"color: #00af00; text-decoration-color: #00af00\">254,246</span> (993.15 KB)\n",
              "</pre>\n"
            ]
          },
          "metadata": {}
        },
        {
          "output_type": "display_data",
          "data": {
            "text/plain": [
              "\u001b[1m Trainable params: \u001b[0m\u001b[38;5;34m254,246\u001b[0m (993.15 KB)\n"
            ],
            "text/html": [
              "<pre style=\"white-space:pre;overflow-x:auto;line-height:normal;font-family:Menlo,'DejaVu Sans Mono',consolas,'Courier New',monospace\"><span style=\"font-weight: bold\"> Trainable params: </span><span style=\"color: #00af00; text-decoration-color: #00af00\">254,246</span> (993.15 KB)\n",
              "</pre>\n"
            ]
          },
          "metadata": {}
        },
        {
          "output_type": "display_data",
          "data": {
            "text/plain": [
              "\u001b[1m Non-trainable params: \u001b[0m\u001b[38;5;34m0\u001b[0m (0.00 B)\n"
            ],
            "text/html": [
              "<pre style=\"white-space:pre;overflow-x:auto;line-height:normal;font-family:Menlo,'DejaVu Sans Mono',consolas,'Courier New',monospace\"><span style=\"font-weight: bold\"> Non-trainable params: </span><span style=\"color: #00af00; text-decoration-color: #00af00\">0</span> (0.00 B)\n",
              "</pre>\n"
            ]
          },
          "metadata": {}
        }
      ],
      "source": [
        "# Define model\n",
        "# CNN layers for feature extraction on input data combined with LSTMs to support sequence prediction\n",
        "model2 = Sequential()\n",
        "# CNN layers\n",
        "model2.add(TimeDistributed(Conv1D(filters=64, kernel_size=3, activation='relu'), input_shape=(None,n_length,input_dim)))\n",
        "model2.add(TimeDistributed(Conv1D(filters=64, kernel_size=3, activation='relu')))\n",
        "model2.add(TimeDistributed(Dropout(0.5)))\n",
        "model2.add(TimeDistributed(MaxPooling1D(pool_size=2)))\n",
        "model2.add(TimeDistributed(Flatten()))\n",
        "# Bidirectional LSTM layer\n",
        "model2.add(Bidirectional(LSTM(n_hidden)))\n",
        "model2.add(Dropout(0.5))\n",
        "model2.add(Dense(n_hidden, activation='relu'))\n",
        "model2.add(Dense(n_classes, activation='softmax'))  # Changed to softmax\n",
        "model2.summary()"
      ]
    },
    {
      "cell_type": "code",
      "execution_count": null,
      "metadata": {
        "id": "PDCpX-gi9uhC"
      },
      "outputs": [],
      "source": [
        "model2.compile(loss='categorical_crossentropy', optimizer='adam', metrics=['accuracy'])"
      ]
    },
    {
      "cell_type": "code",
      "execution_count": null,
      "metadata": {
        "id": "29StkTbm9uhD"
      },
      "outputs": [],
      "source": [
        "# Define additional callbacks for CNN-LSTM\n",
        "cnn_lstm_checkpoint = ModelCheckpoint(\n",
        "    'best_cnn_lstm_model.h5',\n",
        "    monitor='val_accuracy',\n",
        "    save_best_only=True,\n",
        "    verbose=1\n",
        ")"
      ]
    },
    {
      "cell_type": "code",
      "execution_count": null,
      "metadata": {
        "colab": {
          "base_uri": "https://localhost:8080/"
        },
        "id": "5J2OitOy9uhD",
        "outputId": "16e3b2a9-51bf-4c0f-9d29-ec303ae78118"
      },
      "outputs": [
        {
          "output_type": "stream",
          "name": "stdout",
          "text": [
            "Epoch 1/50\n",
            "\u001b[1m460/460\u001b[0m \u001b[32m━━━━━━━━━━━━━━━━━━━━\u001b[0m\u001b[37m\u001b[0m \u001b[1m0s\u001b[0m 28ms/step - accuracy: 0.6709 - loss: 0.7906\n",
            "Epoch 1: val_accuracy improved from -inf to 0.85477, saving model to best_cnn_lstm_model.h5\n"
          ]
        },
        {
          "output_type": "stream",
          "name": "stderr",
          "text": [
            "WARNING:absl:You are saving your model as an HDF5 file via `model.save()` or `keras.saving.save_model(model)`. This file format is considered legacy. We recommend using instead the native Keras format, e.g. `model.save('my_model.keras')` or `keras.saving.save_model(model, 'my_model.keras')`. \n"
          ]
        },
        {
          "output_type": "stream",
          "name": "stdout",
          "text": [
            "\b\b\b\b\b\b\b\b\b\b\b\b\b\b\b\b\b\b\b\b\b\b\b\b\b\b\b\b\b\b\b\b\b\b\b\b\b\b\b\b\b\b\b\b\b\b\b\b\b\b\b\b\b\b\b\b\b\b\b\b\b\b\b\b\b\b\b\b\b\b\b\b\b\b\b\r\u001b[1m460/460\u001b[0m \u001b[32m━━━━━━━━━━━━━━━━━━━━\u001b[0m\u001b[37m\u001b[0m \u001b[1m21s\u001b[0m 32ms/step - accuracy: 0.6712 - loss: 0.7900 - val_accuracy: 0.8548 - val_loss: 0.4178\n",
            "Epoch 2/50\n",
            "\u001b[1m459/460\u001b[0m \u001b[32m━━━━━━━━━━━━━━━━━━━\u001b[0m\u001b[37m━\u001b[0m \u001b[1m0s\u001b[0m 27ms/step - accuracy: 0.9160 - loss: 0.2141\n",
            "Epoch 2: val_accuracy improved from 0.85477 to 0.86427, saving model to best_cnn_lstm_model.h5\n"
          ]
        },
        {
          "output_type": "stream",
          "name": "stderr",
          "text": [
            "WARNING:absl:You are saving your model as an HDF5 file via `model.save()` or `keras.saving.save_model(model)`. This file format is considered legacy. We recommend using instead the native Keras format, e.g. `model.save('my_model.keras')` or `keras.saving.save_model(model, 'my_model.keras')`. \n"
          ]
        },
        {
          "output_type": "stream",
          "name": "stdout",
          "text": [
            "\b\b\b\b\b\b\b\b\b\b\b\b\b\b\b\b\b\b\b\b\b\b\b\b\b\b\b\b\b\b\b\b\b\b\b\b\b\b\b\b\b\b\b\b\b\b\b\b\b\b\b\b\b\b\b\b\b\b\b\b\b\b\b\b\b\b\b\b\b\b\b\b\b\b\b\r\u001b[1m460/460\u001b[0m \u001b[32m━━━━━━━━━━━━━━━━━━━━\u001b[0m\u001b[37m\u001b[0m \u001b[1m19s\u001b[0m 30ms/step - accuracy: 0.9161 - loss: 0.2140 - val_accuracy: 0.8643 - val_loss: 0.3851\n",
            "Epoch 3/50\n",
            "\u001b[1m459/460\u001b[0m \u001b[32m━━━━━━━━━━━━━━━━━━━\u001b[0m\u001b[37m━\u001b[0m \u001b[1m0s\u001b[0m 28ms/step - accuracy: 0.9402 - loss: 0.1374\n",
            "Epoch 3: val_accuracy improved from 0.86427 to 0.88599, saving model to best_cnn_lstm_model.h5\n"
          ]
        },
        {
          "output_type": "stream",
          "name": "stderr",
          "text": [
            "WARNING:absl:You are saving your model as an HDF5 file via `model.save()` or `keras.saving.save_model(model)`. This file format is considered legacy. We recommend using instead the native Keras format, e.g. `model.save('my_model.keras')` or `keras.saving.save_model(model, 'my_model.keras')`. \n"
          ]
        },
        {
          "output_type": "stream",
          "name": "stdout",
          "text": [
            "\b\b\b\b\b\b\b\b\b\b\b\b\b\b\b\b\b\b\b\b\b\b\b\b\b\b\b\b\b\b\b\b\b\b\b\b\b\b\b\b\b\b\b\b\b\b\b\b\b\b\b\b\b\b\b\b\b\b\b\b\b\b\b\b\b\b\b\b\b\b\b\b\b\b\b\r\u001b[1m460/460\u001b[0m \u001b[32m━━━━━━━━━━━━━━━━━━━━\u001b[0m\u001b[37m\u001b[0m \u001b[1m21s\u001b[0m 31ms/step - accuracy: 0.9402 - loss: 0.1373 - val_accuracy: 0.8860 - val_loss: 0.3673\n",
            "Epoch 4/50\n",
            "\u001b[1m459/460\u001b[0m \u001b[32m━━━━━━━━━━━━━━━━━━━\u001b[0m\u001b[37m━\u001b[0m \u001b[1m0s\u001b[0m 28ms/step - accuracy: 0.9447 - loss: 0.1262\n",
            "Epoch 4: val_accuracy improved from 0.88599 to 0.89175, saving model to best_cnn_lstm_model.h5\n"
          ]
        },
        {
          "output_type": "stream",
          "name": "stderr",
          "text": [
            "WARNING:absl:You are saving your model as an HDF5 file via `model.save()` or `keras.saving.save_model(model)`. This file format is considered legacy. We recommend using instead the native Keras format, e.g. `model.save('my_model.keras')` or `keras.saving.save_model(model, 'my_model.keras')`. \n"
          ]
        },
        {
          "output_type": "stream",
          "name": "stdout",
          "text": [
            "\b\b\b\b\b\b\b\b\b\b\b\b\b\b\b\b\b\b\b\b\b\b\b\b\b\b\b\b\b\b\b\b\b\b\b\b\b\b\b\b\b\b\b\b\b\b\b\b\b\b\b\b\b\b\b\b\b\b\b\b\b\b\b\b\b\b\b\b\b\b\b\b\b\b\b\r\u001b[1m460/460\u001b[0m \u001b[32m━━━━━━━━━━━━━━━━━━━━\u001b[0m\u001b[37m\u001b[0m \u001b[1m20s\u001b[0m 31ms/step - accuracy: 0.9447 - loss: 0.1262 - val_accuracy: 0.8918 - val_loss: 0.3557\n",
            "Epoch 5/50\n",
            "\u001b[1m458/460\u001b[0m \u001b[32m━━━━━━━━━━━━━━━━━━━\u001b[0m\u001b[37m━\u001b[0m \u001b[1m0s\u001b[0m 28ms/step - accuracy: 0.9508 - loss: 0.1114\n",
            "Epoch 5: val_accuracy did not improve from 0.89175\n",
            "\u001b[1m460/460\u001b[0m \u001b[32m━━━━━━━━━━━━━━━━━━━━\u001b[0m\u001b[37m\u001b[0m \u001b[1m20s\u001b[0m 31ms/step - accuracy: 0.9508 - loss: 0.1114 - val_accuracy: 0.8911 - val_loss: 0.4034\n",
            "Epoch 6/50\n",
            "\u001b[1m458/460\u001b[0m \u001b[32m━━━━━━━━━━━━━━━━━━━\u001b[0m\u001b[37m━\u001b[0m \u001b[1m0s\u001b[0m 28ms/step - accuracy: 0.9533 - loss: 0.1079\n",
            "Epoch 6: val_accuracy improved from 0.89175 to 0.90974, saving model to best_cnn_lstm_model.h5\n"
          ]
        },
        {
          "output_type": "stream",
          "name": "stderr",
          "text": [
            "WARNING:absl:You are saving your model as an HDF5 file via `model.save()` or `keras.saving.save_model(model)`. This file format is considered legacy. We recommend using instead the native Keras format, e.g. `model.save('my_model.keras')` or `keras.saving.save_model(model, 'my_model.keras')`. \n"
          ]
        },
        {
          "output_type": "stream",
          "name": "stdout",
          "text": [
            "\b\b\b\b\b\b\b\b\b\b\b\b\b\b\b\b\b\b\b\b\b\b\b\b\b\b\b\b\b\b\b\b\b\b\b\b\b\b\b\b\b\b\b\b\b\b\b\b\b\b\b\b\b\b\b\b\b\b\b\b\b\b\b\b\b\b\b\b\b\b\b\b\b\b\b\r\u001b[1m460/460\u001b[0m \u001b[32m━━━━━━━━━━━━━━━━━━━━\u001b[0m\u001b[37m\u001b[0m \u001b[1m14s\u001b[0m 30ms/step - accuracy: 0.9533 - loss: 0.1079 - val_accuracy: 0.9097 - val_loss: 0.3244\n",
            "Epoch 7/50\n",
            "\u001b[1m460/460\u001b[0m \u001b[32m━━━━━━━━━━━━━━━━━━━━\u001b[0m\u001b[37m\u001b[0m \u001b[1m0s\u001b[0m 28ms/step - accuracy: 0.9526 - loss: 0.1007\n",
            "Epoch 7: val_accuracy did not improve from 0.90974\n",
            "\u001b[1m460/460\u001b[0m \u001b[32m━━━━━━━━━━━━━━━━━━━━\u001b[0m\u001b[37m\u001b[0m \u001b[1m14s\u001b[0m 31ms/step - accuracy: 0.9526 - loss: 0.1007 - val_accuracy: 0.8962 - val_loss: 0.3771\n",
            "Epoch 8/50\n",
            "\u001b[1m458/460\u001b[0m \u001b[32m━━━━━━━━━━━━━━━━━━━\u001b[0m\u001b[37m━\u001b[0m \u001b[1m0s\u001b[0m 28ms/step - accuracy: 0.9577 - loss: 0.0908\n",
            "Epoch 8: val_accuracy did not improve from 0.90974\n",
            "\u001b[1m460/460\u001b[0m \u001b[32m━━━━━━━━━━━━━━━━━━━━\u001b[0m\u001b[37m\u001b[0m \u001b[1m20s\u001b[0m 31ms/step - accuracy: 0.9578 - loss: 0.0908 - val_accuracy: 0.9067 - val_loss: 0.3941\n",
            "Epoch 9/50\n",
            "\u001b[1m460/460\u001b[0m \u001b[32m━━━━━━━━━━━━━━━━━━━━\u001b[0m\u001b[37m\u001b[0m \u001b[1m0s\u001b[0m 28ms/step - accuracy: 0.9525 - loss: 0.1030\n",
            "Epoch 9: val_accuracy improved from 0.90974 to 0.91008, saving model to best_cnn_lstm_model.h5\n"
          ]
        },
        {
          "output_type": "stream",
          "name": "stderr",
          "text": [
            "WARNING:absl:You are saving your model as an HDF5 file via `model.save()` or `keras.saving.save_model(model)`. This file format is considered legacy. We recommend using instead the native Keras format, e.g. `model.save('my_model.keras')` or `keras.saving.save_model(model, 'my_model.keras')`. \n"
          ]
        },
        {
          "output_type": "stream",
          "name": "stdout",
          "text": [
            "\b\b\b\b\b\b\b\b\b\b\b\b\b\b\b\b\b\b\b\b\b\b\b\b\b\b\b\b\b\b\b\b\b\b\b\b\b\b\b\b\b\b\b\b\b\b\b\b\b\b\b\b\b\b\b\b\b\b\b\b\b\b\b\b\b\b\b\b\b\b\b\b\b\b\b\r\u001b[1m460/460\u001b[0m \u001b[32m━━━━━━━━━━━━━━━━━━━━\u001b[0m\u001b[37m\u001b[0m \u001b[1m14s\u001b[0m 30ms/step - accuracy: 0.9525 - loss: 0.1030 - val_accuracy: 0.9101 - val_loss: 0.4244\n",
            "Epoch 10/50\n",
            "\u001b[1m458/460\u001b[0m \u001b[32m━━━━━━━━━━━━━━━━━━━\u001b[0m\u001b[37m━\u001b[0m \u001b[1m0s\u001b[0m 28ms/step - accuracy: 0.9590 - loss: 0.0926\n",
            "Epoch 10: val_accuracy did not improve from 0.91008\n",
            "\u001b[1m460/460\u001b[0m \u001b[32m━━━━━━━━━━━━━━━━━━━━\u001b[0m\u001b[37m\u001b[0m \u001b[1m20s\u001b[0m 30ms/step - accuracy: 0.9590 - loss: 0.0926 - val_accuracy: 0.9033 - val_loss: 0.4713\n",
            "Epoch 11/50\n",
            "\u001b[1m458/460\u001b[0m \u001b[32m━━━━━━━━━━━━━━━━━━━\u001b[0m\u001b[37m━\u001b[0m \u001b[1m0s\u001b[0m 28ms/step - accuracy: 0.9597 - loss: 0.0907\n",
            "Epoch 11: val_accuracy did not improve from 0.91008\n",
            "\u001b[1m460/460\u001b[0m \u001b[32m━━━━━━━━━━━━━━━━━━━━\u001b[0m\u001b[37m\u001b[0m \u001b[1m13s\u001b[0m 29ms/step - accuracy: 0.9597 - loss: 0.0907 - val_accuracy: 0.9077 - val_loss: 0.4286\n",
            "Epoch 12/50\n",
            "\u001b[1m460/460\u001b[0m \u001b[32m━━━━━━━━━━━━━━━━━━━━\u001b[0m\u001b[37m\u001b[0m \u001b[1m0s\u001b[0m 28ms/step - accuracy: 0.9644 - loss: 0.0789\n",
            "Epoch 12: val_accuracy did not improve from 0.91008\n",
            "\u001b[1m460/460\u001b[0m \u001b[32m━━━━━━━━━━━━━━━━━━━━\u001b[0m\u001b[37m\u001b[0m \u001b[1m14s\u001b[0m 29ms/step - accuracy: 0.9643 - loss: 0.0789 - val_accuracy: 0.9009 - val_loss: 0.4259\n",
            "Epoch 13/50\n",
            "\u001b[1m458/460\u001b[0m \u001b[32m━━━━━━━━━━━━━━━━━━━\u001b[0m\u001b[37m━\u001b[0m \u001b[1m0s\u001b[0m 28ms/step - accuracy: 0.9643 - loss: 0.0779\n",
            "Epoch 13: val_accuracy did not improve from 0.91008\n",
            "\u001b[1m460/460\u001b[0m \u001b[32m━━━━━━━━━━━━━━━━━━━━\u001b[0m\u001b[37m\u001b[0m \u001b[1m14s\u001b[0m 31ms/step - accuracy: 0.9643 - loss: 0.0779 - val_accuracy: 0.8972 - val_loss: 0.5750\n",
            "Epoch 14/50\n",
            "\u001b[1m459/460\u001b[0m \u001b[32m━━━━━━━━━━━━━━━━━━━\u001b[0m\u001b[37m━\u001b[0m \u001b[1m0s\u001b[0m 28ms/step - accuracy: 0.9616 - loss: 0.0775\n",
            "Epoch 14: val_accuracy did not improve from 0.91008\n",
            "\u001b[1m460/460\u001b[0m \u001b[32m━━━━━━━━━━━━━━━━━━━━\u001b[0m\u001b[37m\u001b[0m \u001b[1m20s\u001b[0m 31ms/step - accuracy: 0.9616 - loss: 0.0776 - val_accuracy: 0.8965 - val_loss: 0.5384\n",
            "Epoch 15/50\n",
            "\u001b[1m459/460\u001b[0m \u001b[32m━━━━━━━━━━━━━━━━━━━\u001b[0m\u001b[37m━\u001b[0m \u001b[1m0s\u001b[0m 28ms/step - accuracy: 0.9569 - loss: 0.0976\n",
            "Epoch 15: val_accuracy did not improve from 0.91008\n",
            "\u001b[1m460/460\u001b[0m \u001b[32m━━━━━━━━━━━━━━━━━━━━\u001b[0m\u001b[37m\u001b[0m \u001b[1m20s\u001b[0m 29ms/step - accuracy: 0.9569 - loss: 0.0975 - val_accuracy: 0.8928 - val_loss: 0.6124\n",
            "Epoch 16/50\n",
            "\u001b[1m458/460\u001b[0m \u001b[32m━━━━━━━━━━━━━━━━━━━\u001b[0m\u001b[37m━\u001b[0m \u001b[1m0s\u001b[0m 28ms/step - accuracy: 0.9673 - loss: 0.0652\n",
            "Epoch 16: val_accuracy did not improve from 0.91008\n",
            "\u001b[1m460/460\u001b[0m \u001b[32m━━━━━━━━━━━━━━━━━━━━\u001b[0m\u001b[37m\u001b[0m \u001b[1m21s\u001b[0m 29ms/step - accuracy: 0.9673 - loss: 0.0652 - val_accuracy: 0.8619 - val_loss: 0.6979\n",
            "Epoch 16: early stopping\n",
            "Restoring model weights from the end of the best epoch: 6.\n"
          ]
        }
      ],
      "source": [
        "\n",
        "# Training the model\n",
        "cnn_lstm_history = model2.fit(X_train_cnn,\n",
        "          Y_train,\n",
        "          batch_size=batch_size,\n",
        "          validation_data=(X_test_cnn, Y_test),\n",
        "          epochs=epochs,\n",
        "          callbacks=[early_stopping, cnn_lstm_checkpoint])\n"
      ]
    },
    {
      "cell_type": "code",
      "execution_count": null,
      "metadata": {
        "colab": {
          "base_uri": "https://localhost:8080/"
        },
        "id": "EXwCWa5d4ugq",
        "outputId": "3f4ed9ec-b8c3-4620-c789-6f904b49f0ee"
      },
      "outputs": [
        {
          "output_type": "stream",
          "name": "stdout",
          "text": [
            "\u001b[1m93/93\u001b[0m \u001b[32m━━━━━━━━━━━━━━━━━━━━\u001b[0m\u001b[37m\u001b[0m \u001b[1m1s\u001b[0m 9ms/step - accuracy: 0.8626 - loss: 0.3725\n",
            "Accuracy:  0.9097387194633484\n",
            "Loss:  0.3243808448314667\n",
            "\u001b[1m93/93\u001b[0m \u001b[32m━━━━━━━━━━━━━━━━━━━━\u001b[0m\u001b[37m\u001b[0m \u001b[1m2s\u001b[0m 18ms/step\n"
          ]
        }
      ],
      "source": [
        "# Testing\n",
        "score = model2.evaluate(X_test_cnn, Y_test)\n",
        "print(\"Accuracy: \", score[1])\n",
        "print(\"Loss: \", score[0])\n",
        "\n",
        "# Generate predictions for confusion matrix\n",
        "y_pred = model2.predict(X_test_cnn)\n",
        "y_pred_classes = np.argmax(y_pred, axis=1)"
      ]
    },
    {
      "cell_type": "code",
      "execution_count": null,
      "metadata": {
        "colab": {
          "base_uri": "https://localhost:8080/"
        },
        "id": "jcdjpNUW4w_-",
        "outputId": "96125da1-5a22-45b0-cbe9-c565270e2b71"
      },
      "outputs": [
        {
          "output_type": "stream",
          "name": "stdout",
          "text": [
            "Confusion Matrix:\n",
            "[[467   4  25   0   0   0]\n",
            " [  1 449  21   0   0   0]\n",
            " [  4   3 413   0   0   0]\n",
            " [  0   3   0 428  55   5]\n",
            " [  0   0   0 120 412   0]\n",
            " [  0  25   0   0   0 512]]\n",
            "Classification Report:\n",
            "                    precision    recall  f1-score   support\n",
            "\n",
            "           WALKING       0.99      0.94      0.96       496\n",
            "  WALKING_UPSTAIRS       0.93      0.95      0.94       471\n",
            "WALKING_DOWNSTAIRS       0.90      0.98      0.94       420\n",
            "           SITTING       0.78      0.87      0.82       491\n",
            "          STANDING       0.88      0.77      0.82       532\n",
            "            LAYING       0.99      0.95      0.97       537\n",
            "\n",
            "          accuracy                           0.91      2947\n",
            "         macro avg       0.91      0.91      0.91      2947\n",
            "      weighted avg       0.91      0.91      0.91      2947\n",
            "\n"
          ]
        }
      ],
      "source": [
        "# Display confusion matrix\n",
        "print(\"Confusion Matrix:\")\n",
        "print(confusion_matrix(y_true_classes, y_pred_classes))\n",
        "\n",
        "# Display classification report\n",
        "print(\"Classification Report:\")\n",
        "print(classification_report(y_true_classes, y_pred_classes,\n",
        "                          target_names=[ACTIVITIES[i+1] for i in range(n_classes)]))\n"
      ]
    },
    {
      "cell_type": "code",
      "execution_count": null,
      "metadata": {
        "colab": {
          "base_uri": "https://localhost:8080/",
          "height": 1000
        },
        "id": "5RhKQE189uhE",
        "outputId": "92b11c36-1f3d-45e8-caf9-1a16deb19118"
      },
      "outputs": [
        {
          "output_type": "display_data",
          "data": {
            "text/plain": [
              "<Figure size 1000x800 with 2 Axes>"
            ],
            "image/png": "[encoded data removed]"
          },
          "metadata": {}
        },
        {
          "output_type": "display_data",
          "data": {
            "text/plain": [
              "<Figure size 1000x800 with 2 Axes>"
            ],
            "image/png": "[encoded data removed]"
          },
          "metadata": {}
        }
      ],
      "source": [
        "import matplotlib.pyplot as plt\n",
        "\n",
        "def plot_model_history(history, model_name):\n",
        "    \"\"\"\n",
        "    Plots the training and validation accuracy and loss curves for a given model.\n",
        "\n",
        "    Args:\n",
        "        history: The training history object returned by model.fit.\n",
        "        model_name: The name of the model (e.g., \"LSTM\", \"CNN-LSTM\").\n",
        "    \"\"\"\n",
        "\n",
        "    fig, axs = plt.subplots(2, 1, figsize=(10, 8))\n",
        "\n",
        "    # Plot training & validation accuracy values\n",
        "    axs[0].plot(history.history['accuracy'])\n",
        "    axs[0].plot(history.history['val_accuracy'])\n",
        "    axs[0].set_title(f'{model_name} Model Accuracy')\n",
        "    axs[0].set_ylabel('Accuracy')\n",
        "    axs[0].set_xlabel('Epoch')\n",
        "    axs[0].legend(['Train', 'Validation'], loc='upper left')\n",
        "\n",
        "    # Plot training & validation loss values\n",
        "    axs[1].plot(history.history['loss'])\n",
        "    axs[1].plot(history.history['val_loss'])\n",
        "    axs[1].set_title(f'{model_name} Model Loss')\n",
        "    axs[1].set_ylabel('Loss')\n",
        "    axs[1].set_xlabel('Epoch')\n",
        "    axs[1].legend(['Train', 'Validation'], loc='upper left')\n",
        "\n",
        "    plt.tight_layout()\n",
        "    plt.show()\n",
        "\n",
        "# Plot the graphs\n",
        "plot_model_history(lstm_history, \"Bidirectional LSTM\")\n",
        "plot_model_history(cnn_lstm_history, \"Bidirectional CNN-LSTM\")\n",
        "\n"
      ]
    },
    {
      "cell_type": "code",
      "execution_count": null,
      "metadata": {
        "colab": {
          "base_uri": "https://localhost:8080/"
        },
        "id": "zmFaoLfe64RV",
        "outputId": "59d3ea23-595f-4745-8cf1-0a39cfa67042"
      },
      "outputs": [
        {
          "output_type": "stream",
          "name": "stderr",
          "text": [
            "WARNING:absl:You are saving your model as an HDF5 file via `model.save()` or `keras.saving.save_model(model)`. This file format is considered legacy. We recommend using instead the native Keras format, e.g. `model.save('my_model.keras')` or `keras.saving.save_model(model, 'my_model.keras')`. \n",
            "WARNING:absl:You are saving your model as an HDF5 file via `model.save()` or `keras.saving.save_model(model)`. This file format is considered legacy. We recommend using instead the native Keras format, e.g. `model.save('my_model.keras')` or `keras.saving.save_model(model, 'my_model.keras')`. \n"
          ]
        }
      ],
      "source": [
        "# Save models in multiple formats\n",
        "model1.save('har_lstm_model.h5')\n",
        "model1.save('har_lstm.keras')\n",
        "\n",
        "model2.save('har_cnn_lstm_model.h5')\n",
        "model2.save('har_cnn_lstm.keras')"
      ]
    },
    {
      "cell_type": "code",
      "execution_count": null,
      "metadata": {
        "colab": {
          "base_uri": "https://localhost:8080/",
          "height": 659
        },
        "id": "1JvC55fCedmB",
        "outputId": "21a6372d-fbbe-4375-be7f-7a042787aa2d"
      },
      "outputs": [
        {
          "output_type": "stream",
          "name": "stdout",
          "text": [
            "Saved artifact at '/tmp/tmp4jj5z9x1'. The following endpoints are available:\n",
            "\n",
            "* Endpoint 'serve'\n",
            "  args_0 (POSITIONAL_ONLY): TensorSpec(shape=(None, 128, 9), dtype=tf.float32, name='keras_tensor')\n",
            "Output Type:\n",
            "  TensorSpec(shape=(None, 6), dtype=tf.float32, name=None)\n",
            "Captures:\n",
            "  140475724553232: TensorSpec(shape=(), dtype=tf.resource, name=None)\n",
            "  140475724552272: TensorSpec(shape=(), dtype=tf.resource, name=None)\n",
            "  140475724548432: TensorSpec(shape=(), dtype=tf.resource, name=None)\n",
            "  140475724551888: TensorSpec(shape=(), dtype=tf.resource, name=None)\n",
            "  140475724549008: TensorSpec(shape=(), dtype=tf.resource, name=None)\n",
            "  140475724549776: TensorSpec(shape=(), dtype=tf.resource, name=None)\n",
            "  140475724547664: TensorSpec(shape=(), dtype=tf.resource, name=None)\n",
            "  140475916303440: TensorSpec(shape=(), dtype=tf.resource, name=None)\n",
            "Saved artifact at '/tmp/tmp4reladz5'. The following endpoints are available:\n",
            "\n",
            "* Endpoint 'serve'\n",
            "  args_0 (POSITIONAL_ONLY): TensorSpec(shape=(None, None, 32, 9), dtype=tf.float32, name='keras_tensor_7')\n",
            "Output Type:\n",
            "  TensorSpec(shape=(None, 6), dtype=tf.float32, name=None)\n",
            "Captures:\n",
            "  140475724551504: TensorSpec(shape=(), dtype=tf.resource, name=None)\n",
            "  140475724561488: TensorSpec(shape=(), dtype=tf.resource, name=None)\n",
            "  140475724561680: TensorSpec(shape=(), dtype=tf.resource, name=None)\n",
            "  140475724558800: TensorSpec(shape=(), dtype=tf.resource, name=None)\n",
            "  140475724558992: TensorSpec(shape=(), dtype=tf.resource, name=None)\n",
            "  140475724560144: TensorSpec(shape=(), dtype=tf.resource, name=None)\n",
            "  140475724549200: TensorSpec(shape=(), dtype=tf.resource, name=None)\n",
            "  140475724644432: TensorSpec(shape=(), dtype=tf.resource, name=None)\n",
            "  140475724645008: TensorSpec(shape=(), dtype=tf.resource, name=None)\n",
            "  140475724649808: TensorSpec(shape=(), dtype=tf.resource, name=None)\n",
            "  140475724652496: TensorSpec(shape=(), dtype=tf.resource, name=None)\n",
            "  140475724644816: TensorSpec(shape=(), dtype=tf.resource, name=None)\n",
            "  140475724645200: TensorSpec(shape=(), dtype=tf.resource, name=None)\n",
            "  140475568369168: TensorSpec(shape=(), dtype=tf.resource, name=None)\n",
            "Models converted successfully!\n"
          ]
        },
        {
          "output_type": "display_data",
          "data": {
            "text/plain": [
              "<IPython.core.display.Javascript object>"
            ],
            "application/javascript": [
              "\n",
              "    async function download(id, filename, size) {\n",
              "      if (!google.colab.kernel.accessAllowed) {\n",
              "        return;\n",
              "      }\n",
              "      const div = document.createElement('div');\n",
              "      const label = document.createElement('label');\n",
              "      label.textContent = `Downloading \"${filename}\": `;\n",
              "      div.appendChild(label);\n",
              "      const progress = document.createElement('progress');\n",
              "      progress.max = size;\n",
              "      div.appendChild(progress);\n",
              "      document.body.appendChild(div);\n",
              "\n",
              "      const buffers = [];\n",
              "      let downloaded = 0;\n",
              "\n",
              "      const channel = await google.colab.kernel.comms.open(id);\n",
              "      // Send a message to notify the kernel that we're ready.\n",
              "      channel.send({})\n",
              "\n",
              "      for await (const message of channel.messages) {\n",
              "        // Send a message to notify the kernel that we're ready.\n",
              "        channel.send({})\n",
              "        if (message.buffers) {\n",
              "          for (const buffer of message.buffers) {\n",
              "            buffers.push(buffer);\n",
              "            downloaded += buffer.byteLength;\n",
              "            progress.value = downloaded;\n",
              "          }\n",
              "        }\n",
              "      }\n",
              "      const blob = new Blob(buffers, {type: 'application/binary'});\n",
              "      const a = document.createElement('a');\n",
              "      a.href = window.URL.createObjectURL(blob);\n",
              "      a.download = filename;\n",
              "      div.appendChild(a);\n",
              "      a.click();\n",
              "      div.remove();\n",
              "    }\n",
              "  "
            ]
          },
          "metadata": {}
        },
        {
          "output_type": "display_data",
          "data": {
            "text/plain": [
              "<IPython.core.display.Javascript object>"
            ],
            "application/javascript": [
              "download(\"download_cbd7daee-dc5c-481e-8dd5-98c68fa4d2e8\", \"har_lstm.tflite\", 65480)"
            ]
          },
          "metadata": {}
        },
        {
          "output_type": "display_data",
          "data": {
            "text/plain": [
              "<IPython.core.display.Javascript object>"
            ],
            "application/javascript": [
              "\n",
              "    async function download(id, filename, size) {\n",
              "      if (!google.colab.kernel.accessAllowed) {\n",
              "        return;\n",
              "      }\n",
              "      const div = document.createElement('div');\n",
              "      const label = document.createElement('label');\n",
              "      label.textContent = `Downloading \"${filename}\": `;\n",
              "      div.appendChild(label);\n",
              "      const progress = document.createElement('progress');\n",
              "      progress.max = size;\n",
              "      div.appendChild(progress);\n",
              "      document.body.appendChild(div);\n",
              "\n",
              "      const buffers = [];\n",
              "      let downloaded = 0;\n",
              "\n",
              "      const channel = await google.colab.kernel.comms.open(id);\n",
              "      // Send a message to notify the kernel that we're ready.\n",
              "      channel.send({})\n",
              "\n",
              "      for await (const message of channel.messages) {\n",
              "        // Send a message to notify the kernel that we're ready.\n",
              "        channel.send({})\n",
              "        if (message.buffers) {\n",
              "          for (const buffer of message.buffers) {\n",
              "            buffers.push(buffer);\n",
              "            downloaded += buffer.byteLength;\n",
              "            progress.value = downloaded;\n",
              "          }\n",
              "        }\n",
              "      }\n",
              "      const blob = new Blob(buffers, {type: 'application/binary'});\n",
              "      const a = document.createElement('a');\n",
              "      a.href = window.URL.createObjectURL(blob);\n",
              "      a.download = filename;\n",
              "      div.appendChild(a);\n",
              "      a.click();\n",
              "      div.remove();\n",
              "    }\n",
              "  "
            ]
          },
          "metadata": {}
        },
        {
          "output_type": "display_data",
          "data": {
            "text/plain": [
              "<IPython.core.display.Javascript object>"
            ],
            "application/javascript": [
              "download(\"download_668e93ef-5ee0-4cb2-8640-43d4ea06f794\", \"har_cnn_lstm.tflite\", 1096184)"
            ]
          },
          "metadata": {}
        }
      ],
      "source": [
        "# =============================================\n",
        "# Convert LSTM model to TFLite with special flags\n",
        "# =============================================\n",
        "\n",
        "\n",
        "# Conversion with required configurations\n",
        "converter = tf.lite.TFLiteConverter.from_keras_model(model1)\n",
        "converter.experimental_enable_resource_variables = True\n",
        "converter.target_spec.supported_ops = [\n",
        "    tf.lite.OpsSet.TFLITE_BUILTINS,  # Enable basic TFLite ops\n",
        "    tf.lite.OpsSet.SELECT_TF_OPS      # Enable TensorFlow fallback ops\n",
        "]\n",
        "converter._experimental_lower_tensor_list_ops = False\n",
        "\n",
        "tflite_lstm = converter.convert()\n",
        "with open('har_lstm.tflite', 'wb') as f:\n",
        "    f.write(tflite_lstm)\n",
        "\n",
        "# =============================================\n",
        "# Convert CNN-LSTM model (if needed)\n",
        "# =============================================\n",
        "model2.save('har_cnn_lstm.keras')\n",
        "\n",
        "converter = tf.lite.TFLiteConverter.from_keras_model(model2)\n",
        "converter.experimental_enable_resource_variables = True\n",
        "converter.target_spec.supported_ops = [\n",
        "    tf.lite.OpsSet.TFLITE_BUILTINS,\n",
        "    tf.lite.OpsSet.SELECT_TF_OPS\n",
        "]\n",
        "converter._experimental_lower_tensor_list_ops = False\n",
        "\n",
        "tflite_cnn_lstm = converter.convert()\n",
        "with open('har_cnn_lstm.tflite', 'wb') as f:\n",
        "    f.write(tflite_cnn_lstm)\n",
        "\n",
        "print(\"Models converted successfully!\")\n",
        "\n",
        "from google.colab import files\n",
        "files.download('har_lstm.tflite')\n",
        "files.download('har_cnn_lstm.tflite')"
      ]
    },
    {
      "cell_type": "code",
      "execution_count": null,
      "metadata": {
        "colab": {
          "base_uri": "https://localhost:8080/"
        },
        "id": "Si6afzkhSdvz",
        "outputId": "f157a652-fe9f-4203-d263-58dfa99dcecd"
      },
      "outputs": [
        {
          "output_type": "stream",
          "name": "stdout",
          "text": [
            "Model expects input shape: [ 1  1 32  9]\n",
            "Window 0-32: LAYING (99.99%)\n",
            "Window 32-64: LAYING (99.98%)\n",
            "Window 64-96: LAYING (99.96%)\n",
            "Window 96-128: LAYING (99.98%)\n",
            "Window 128-160: LAYING (99.98%)\n",
            "Window 160-192: LAYING (97.78%)\n",
            "Window 192-224: LAYING (99.99%)\n",
            "Window 224-256: LAYING (99.98%)\n",
            "Window 256-288: LAYING (99.88%)\n",
            "Window 288-320: LAYING (99.99%)\n",
            "Window 320-352: LAYING (99.98%)\n",
            "Window 352-384: LAYING (99.96%)\n",
            "Window 384-416: LAYING (99.90%)\n",
            "Window 416-448: LAYING (99.69%)\n",
            "Window 448-480: LAYING (99.98%)\n",
            "Window 480-512: LAYING (99.93%)\n",
            "Window 512-544: LAYING (99.87%)\n",
            "Window 544-576: LAYING (99.92%)\n",
            "Window 576-608: LAYING (99.95%)\n",
            "Window 608-640: LAYING (99.98%)\n",
            "Window 640-672: LAYING (99.90%)\n",
            "Window 672-704: LAYING (99.92%)\n",
            "Window 704-736: LAYING (99.99%)\n",
            "Window 736-768: LAYING (99.98%)\n",
            "Window 768-800: LAYING (99.95%)\n",
            "Window 800-832: LAYING (99.54%)\n",
            "Window 832-864: LAYING (99.71%)\n",
            "Window 864-896: LAYING (99.98%)\n",
            "Window 896-928: LAYING (99.98%)\n",
            "Window 928-960: LAYING (99.84%)\n",
            "Window 960-992: LAYING (99.97%)\n",
            "Window 992-1024: LAYING (99.96%)\n",
            "Window 1024-1056: LAYING (99.98%)\n",
            "Window 1056-1088: LAYING (99.97%)\n",
            "Window 1088-1120: LAYING (99.02%)\n",
            "Window 1120-1152: LAYING (99.99%)\n",
            "Window 1152-1184: LAYING (99.67%)\n",
            "Window 1184-1216: LAYING (99.96%)\n",
            "Window 1216-1248: LAYING (99.97%)\n",
            "Window 1248-1280: LAYING (99.70%)\n",
            "Window 1280-1312: LAYING (99.99%)\n",
            "Window 1312-1344: LAYING (99.94%)\n",
            "Window 1344-1376: LAYING (99.91%)\n",
            "Window 1376-1408: LAYING (99.95%)\n",
            "Window 1408-1440: LAYING (99.98%)\n",
            "Window 1440-1472: LAYING (99.98%)\n",
            "Window 1472-1504: LAYING (99.53%)\n",
            "Window 1504-1536: LAYING (99.90%)\n",
            "Window 1536-1568: LAYING (99.99%)\n",
            "Window 1568-1600: LAYING (99.88%)\n",
            "Window 1600-1632: LAYING (99.83%)\n",
            "Window 1632-1664: LAYING (99.99%)\n",
            "Window 1664-1696: LAYING (98.12%)\n",
            "Window 1696-1728: LAYING (99.88%)\n",
            "Window 1728-1760: LAYING (99.98%)\n",
            "Window 1760-1792: LAYING (99.91%)\n",
            "Window 1792-1824: LAYING (99.90%)\n",
            "Window 1824-1856: LAYING (99.96%)\n",
            "Window 1856-1888: LAYING (99.96%)\n",
            "Window 1888-1920: LAYING (99.94%)\n",
            "Window 1920-1952: LAYING (99.96%)\n",
            "Window 1952-1984: LAYING (99.99%)\n",
            "Window 1984-2016: LAYING (99.96%)\n",
            "Window 2016-2048: LAYING (99.18%)\n",
            "Window 2048-2080: LAYING (99.99%)\n",
            "Window 2080-2112: LAYING (99.98%)\n",
            "Window 2112-2144: LAYING (95.40%)\n",
            "Window 2144-2176: LAYING (99.99%)\n",
            "Window 2176-2208: LAYING (99.91%)\n",
            "Window 2208-2240: LAYING (99.82%)\n",
            "Window 2240-2272: LAYING (99.99%)\n",
            "Window 2272-2304: LAYING (99.90%)\n",
            "Window 2304-2336: LAYING (99.98%)\n",
            "Window 2336-2368: LAYING (98.86%)\n",
            "Window 2368-2400: LAYING (99.99%)\n",
            "Window 2400-2432: LAYING (99.97%)\n",
            "Window 2432-2464: LAYING (99.97%)\n",
            "Window 2464-2496: LAYING (99.98%)\n",
            "Window 2496-2528: LAYING (99.89%)\n",
            "Window 2528-2560: LAYING (99.99%)\n",
            "Window 2560-2592: LAYING (99.83%)\n",
            "Window 2592-2624: LAYING (99.88%)\n",
            "Window 2624-2656: LAYING (99.79%)\n",
            "Window 2656-2688: LAYING (99.67%)\n",
            "Window 2688-2720: LAYING (99.99%)\n",
            "Window 2720-2752: LAYING (99.67%)\n",
            "Window 2752-2784: LAYING (99.99%)\n",
            "Window 2784-2816: LAYING (98.31%)\n",
            "Window 2816-2848: LAYING (99.99%)\n",
            "Window 2848-2880: LAYING (97.32%)\n",
            "Window 2880-2912: LAYING (99.90%)\n",
            "Window 2912-2944: LAYING (99.97%)\n",
            "Window 2944-2976: LAYING (99.99%)\n",
            "Window 2976-3008: LAYING (99.99%)\n",
            "Window 3008-3040: LAYING (99.90%)\n",
            "Window 3040-3072: LAYING (99.96%)\n",
            "Window 3072-3104: LAYING (99.95%)\n",
            "Window 3104-3136: LAYING (99.98%)\n",
            "Window 3136-3168: LAYING (99.95%)\n",
            "Window 3168-3200: LAYING (99.96%)\n",
            "Window 3200-3232: LAYING (99.99%)\n",
            "Window 3232-3264: LAYING (99.95%)\n",
            "Window 3264-3296: LAYING (99.96%)\n",
            "Window 3296-3328: LAYING (99.98%)\n",
            "Window 3328-3360: LAYING (99.99%)\n",
            "Window 3360-3392: LAYING (99.92%)\n",
            "Window 3392-3424: LAYING (99.99%)\n",
            "Window 3424-3456: LAYING (99.96%)\n",
            "Window 3456-3488: LAYING (99.88%)\n",
            "Window 3488-3520: LAYING (99.97%)\n",
            "Window 3520-3552: LAYING (99.93%)\n",
            "Window 3552-3584: LAYING (99.98%)\n",
            "Window 3584-3616: LAYING (99.87%)\n",
            "Window 3616-3648: LAYING (99.83%)\n",
            "Window 3648-3680: LAYING (99.99%)\n",
            "Window 3680-3712: LAYING (99.98%)\n",
            "Window 3712-3744: LAYING (99.89%)\n",
            "Window 3744-3776: LAYING (99.97%)\n",
            "Window 3776-3808: LAYING (99.93%)\n",
            "Window 3808-3840: LAYING (99.98%)\n",
            "Window 3840-3872: LAYING (89.83%)\n",
            "Window 3872-3904: LAYING (99.36%)\n",
            "Window 3904-3936: LAYING (99.99%)\n",
            "Window 3936-3968: LAYING (99.88%)\n",
            "Window 3968-4000: LAYING (99.96%)\n",
            "Window 4000-4032: LAYING (99.98%)\n",
            "Window 4032-4064: LAYING (99.91%)\n",
            "Window 4064-4096: LAYING (99.99%)\n",
            "Window 4096-4128: LAYING (99.98%)\n",
            "Window 4128-4160: LAYING (99.92%)\n",
            "Window 4160-4192: LAYING (99.97%)\n",
            "Window 4192-4224: LAYING (99.96%)\n",
            "Window 4224-4256: LAYING (99.98%)\n",
            "Window 4256-4288: LAYING (99.97%)\n",
            "Window 4288-4320: LAYING (99.97%)\n",
            "Window 4320-4352: LAYING (99.93%)\n",
            "Window 4352-4384: LAYING (99.93%)\n",
            "Window 4384-4416: LAYING (99.99%)\n",
            "Window 4416-4448: LAYING (99.97%)\n",
            "Window 4448-4480: LAYING (99.86%)\n",
            "Window 4480-4512: LAYING (99.99%)\n",
            "Window 4512-4544: LAYING (99.93%)\n",
            "Window 4544-4576: LAYING (99.98%)\n",
            "Window 4576-4608: LAYING (99.85%)\n",
            "Window 4608-4640: LAYING (99.95%)\n",
            "Window 4640-4672: LAYING (99.99%)\n",
            "Window 4672-4704: LAYING (99.99%)\n",
            "Window 4704-4736: LAYING (99.85%)\n",
            "Window 4736-4768: LAYING (99.97%)\n",
            "Window 4768-4800: LAYING (99.46%)\n",
            "Window 4800-4832: LAYING (99.98%)\n",
            "Window 4832-4864: LAYING (99.86%)\n",
            "Window 4864-4896: LAYING (99.36%)\n",
            "Window 4896-4928: LAYING (99.99%)\n",
            "Window 4928-4960: LAYING (99.98%)\n",
            "Window 4960-4992: LAYING (99.99%)\n",
            "Window 4992-5024: LAYING (99.99%)\n",
            "Window 5024-5056: LAYING (89.14%)\n",
            "Window 5056-5088: LAYING (99.90%)\n",
            "Window 5088-5120: LAYING (99.95%)\n",
            "Window 5120-5152: LAYING (99.68%)\n",
            "Window 5152-5184: LAYING (99.98%)\n",
            "Window 5184-5216: LAYING (99.93%)\n",
            "Window 5216-5248: LAYING (99.90%)\n",
            "Window 5248-5280: LAYING (99.98%)\n",
            "Window 5280-5312: LAYING (99.64%)\n",
            "Window 5312-5344: LAYING (99.99%)\n",
            "Window 5344-5376: LAYING (99.96%)\n",
            "Window 5376-5408: LAYING (99.75%)\n",
            "Window 5408-5440: LAYING (99.98%)\n",
            "Window 5440-5472: LAYING (99.90%)\n",
            "Window 5472-5504: LAYING (99.97%)\n",
            "Window 5504-5536: LAYING (99.95%)\n",
            "Window 5536-5568: LAYING (99.89%)\n",
            "Window 5568-5600: LAYING (99.98%)\n",
            "Window 5600-5632: LAYING (99.98%)\n",
            "Window 5632-5664: LAYING (99.93%)\n",
            "Window 5664-5696: LAYING (99.99%)\n",
            "Window 5696-5728: LAYING (99.98%)\n",
            "Window 5728-5760: LAYING (99.89%)\n",
            "Window 5760-5792: LAYING (99.94%)\n",
            "Window 5792-5824: LAYING (99.91%)\n",
            "Window 5824-5856: LAYING (99.99%)\n",
            "Window 5856-5888: LAYING (99.98%)\n",
            "Window 5888-5920: LAYING (99.85%)\n",
            "Window 5920-5952: LAYING (99.95%)\n",
            "Window 5952-5984: LAYING (99.92%)\n",
            "Window 5984-6016: LAYING (99.98%)\n",
            "Window 6016-6048: LAYING (99.99%)\n",
            "Window 6048-6080: LAYING (99.91%)\n",
            "Window 6080-6112: LAYING (99.99%)\n",
            "Window 6112-6144: LAYING (99.95%)\n",
            "Window 6144-6176: LAYING (99.98%)\n",
            "Window 6176-6208: LAYING (99.84%)\n",
            "Window 6208-6240: LAYING (99.58%)\n",
            "Window 6240-6272: LAYING (99.99%)\n",
            "Window 6272-6304: LAYING (99.75%)\n",
            "Window 6304-6336: LAYING (99.85%)\n",
            "Window 6336-6368: LAYING (99.99%)\n",
            "Window 6368-6400: LAYING (99.95%)\n",
            "Window 6400-6432: LAYING (99.98%)\n",
            "Window 6432-6464: LAYING (99.97%)\n",
            "Window 6464-6496: LAYING (99.90%)\n",
            "Window 6496-6528: LAYING (99.98%)\n",
            "Window 6528-6560: LAYING (99.98%)\n",
            "Window 6560-6592: LAYING (99.56%)\n",
            "Window 6592-6624: LAYING (99.99%)\n",
            "Window 6624-6656: LAYING (99.92%)\n",
            "Window 6656-6688: LAYING (99.67%)\n",
            "Window 6688-6720: LAYING (99.98%)\n",
            "Window 6720-6752: LAYING (99.95%)\n",
            "Window 6752-6784: LAYING (99.68%)\n",
            "Window 6784-6816: LAYING (99.98%)\n",
            "Window 6816-6848: LAYING (99.97%)\n",
            "Window 6848-6880: LAYING (99.96%)\n",
            "Window 6880-6912: LAYING (99.98%)\n",
            "Window 6912-6944: LAYING (99.98%)\n",
            "Window 6944-6976: LAYING (99.98%)\n",
            "Window 6976-7008: LAYING (99.99%)\n",
            "Window 7008-7040: LAYING (99.86%)\n",
            "Window 7040-7072: LAYING (99.82%)\n",
            "Window 7072-7104: LAYING (99.98%)\n",
            "Window 7104-7136: LAYING (99.99%)\n",
            "Window 7136-7168: LAYING (99.96%)\n",
            "Window 7168-7200: LAYING (99.99%)\n",
            "Window 7200-7232: LAYING (99.96%)\n",
            "Window 7232-7264: LAYING (99.98%)\n",
            "Window 7264-7296: LAYING (99.97%)\n",
            "Window 7296-7328: LAYING (99.98%)\n",
            "Window 7328-7360: LAYING (99.98%)\n",
            "Window 7360-7392: LAYING (99.98%)\n",
            "Window 7392-7424: LAYING (99.99%)\n",
            "Window 7424-7456: LAYING (99.98%)\n",
            "Window 7456-7488: LAYING (99.98%)\n"
          ]
        }
      ],
      "source": [
        "import numpy as np\n",
        "import pandas as pd\n",
        "from tensorflow.lite.python.interpreter import Interpreter\n",
        "\n",
        "# Load TFLite model and allocate tensors\n",
        "model_path = '/content/drive/MyDrive/Colab Notebooks/har_cnn_lstm.tflite'\n",
        "interpreter = Interpreter(model_path=model_path)\n",
        "interpreter.allocate_tensors()\n",
        "\n",
        "# Get input/output details\n",
        "input_details = interpreter.get_input_details()\n",
        "output_details = interpreter.get_output_details()\n",
        "\n",
        "# Verify expected input shape\n",
        "print(\"Model expects input shape:\", input_details[0]['shape'])  # Should be [1 1 32 9]\n",
        "\n",
        "# Load normalization parameters\n",
        "train_mean = np.mean(X_train.reshape(-1, 9), axis=0)\n",
        "train_std = np.std(X_train.reshape(-1, 9), axis=0)\n",
        "\n",
        "def process_csv(file_path):\n",
        "    \"\"\"Process CSV data for model prediction\"\"\"\n",
        "    # Load and validate CSV\n",
        "    df = pd.read_csv(file_path)\n",
        "    required_cols = ['gFx', 'gFy', 'gFz', 'wx', 'wy', 'wz', 'ax', 'ay', 'az']\n",
        "    if not set(required_cols).issubset(df.columns):\n",
        "        missing = list(set(required_cols) - set(df.columns))\n",
        "        raise ValueError(f\"Missing columns: {missing}\")\n",
        "\n",
        "    # Create feature matrix\n",
        "    raw_data = np.hstack([\n",
        "        df[['gFx', 'gFy', 'gFz']].values,\n",
        "        df[['wx', 'wy', 'wz']].values,\n",
        "        df[['ax', 'ay', 'az']].values\n",
        "    ])\n",
        "\n",
        "    predictions = []\n",
        "\n",
        "    # Process in 32-timestep windows\n",
        "    window_size = 32\n",
        "    stride = 32\n",
        "\n",
        "    for i in range(0, len(raw_data) - window_size + 1, stride):\n",
        "        window = raw_data[i:i+window_size]\n",
        "\n",
        "        # Normalize and reshape\n",
        "        window_norm = (window - train_mean) / train_std\n",
        "        input_data = np.expand_dims(window_norm, axis=0)\n",
        "        input_data = np.expand_dims(input_data, axis=0).astype(np.float32)\n",
        "\n",
        "        # Validate input shape\n",
        "        if input_data.shape != tuple(input_details[0]['shape']):\n",
        "            raise ValueError(f\"Shape mismatch: {input_data.shape} vs {input_details[0]['shape']}\")\n",
        "\n",
        "        # Run inference\n",
        "        interpreter.set_tensor(input_details[0]['index'], input_data)\n",
        "        interpreter.invoke()\n",
        "        output = interpreter.get_tensor(output_details[0]['index'])\n",
        "\n",
        "        predictions.append({\n",
        "            'window_start': i,\n",
        "            'window_end': i+window_size,\n",
        "            'prediction': int(np.argmax(output)),\n",
        "            'activity': ACTIVITIES[np.argmax(output) + 1],\n",
        "            'confidence': float(np.max(output))\n",
        "        })\n",
        "\n",
        "    return predictions\n",
        "\n",
        "# Example usage\n",
        "try:\n",
        "    results = process_csv('/content/drive/MyDrive/Colab Notebooks/R2.csv')\n",
        "    for result in results:\n",
        "        print(f\"Window {result['window_start']}-{result['window_end']}: \"\n",
        "              f\"{result['activity']} ({result['confidence']:.2%})\")\n",
        "except Exception as e:\n",
        "    print(f\"Error: {str(e)}\")"
      ]
    }
  ],
  "metadata": {
    "colab": {
      "provenance": []
    },
    "kernelspec": {
      "display_name": "Python 3 (ipykernel)",
      "language": "python",
      "name": "python3"
    },
    "language_info": {
      "codemirror_mode": {
        "name": "ipython",
        "version": 3
      },
      "file_extension": ".py",
      "mimetype": "text/x-python",
      "name": "python",
      "nbconvert_exporter": "python",
      "pygments_lexer": "ipython3",
      "version": "3.13.1"
    }
  },
  "nbformat": 4,
  "nbformat_minor": 0
}